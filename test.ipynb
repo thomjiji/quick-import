{
 "cells": [
  {
   "cell_type": "code",
   "execution_count": 21,
   "outputs": [],
   "source": [
    "from python_get_resolve import GetResolve\n",
    "\n",
    "resolve = GetResolve()\n",
    "\n",
    "project_manager = resolve.GetProjectManager()\n",
    "project = project_manager.GetCurrentProject()\n",
    "media_storage = resolve.GetMediaStorage()\n",
    "sub_folder_List = media_storage.GetSubFolderList(\"/Volumes/DIT-2T#7/白举纲MV记录0808\")\n",
    "\n",
    "media_pool = project.GetMediaPool()\n",
    "root_folder = media_pool.GetRootFolder()\n",
    "media_pool.AddSubFolder(root_folder, \"GH5#1\")\n",
    "media_pool.AddSubFolder(root_folder, \"GH5#2\")\n",
    "\n",
    "for count, sub_folder in enumerate(root_folder.GetSubFolderList()):\n",
    "    media_pool.SetCurrentFolder(sub_folder)\n",
    "    media_storage.AddItemListToMediaPool(sub_folder_List[count])"
   ],
   "metadata": {
    "collapsed": false,
    "pycharm": {
     "name": "#%%\n"
    }
   }
  }
 ],
 "metadata": {
  "kernelspec": {
   "display_name": "Python 3",
   "language": "python",
   "name": "python3"
  },
  "language_info": {
   "codemirror_mode": {
    "name": "ipython",
    "version": 2
   },
   "file_extension": ".py",
   "mimetype": "text/x-python",
   "name": "python",
   "nbconvert_exporter": "python",
   "pygments_lexer": "ipython2",
   "version": "2.7.6"
  }
 },
 "nbformat": 4,
 "nbformat_minor": 0
}