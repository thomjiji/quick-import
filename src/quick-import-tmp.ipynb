{
 "cells": [
  {
   "cell_type": "code",
   "execution_count": 3,
   "outputs": [
    {
     "data": {
      "text/plain": "['/Applications/PyCharm.app/Contents/plugins/python/helpers-pro/jupyter_debug',\n '/Applications/PyCharm.app/Contents/plugins/python/helpers/pydev',\n '/Users/thom/PycharmProjects/quick-import/src',\n '/Users/thom/PycharmProjects/quick-import',\n '/Library/Frameworks/Python.framework/Versions/3.10/lib/python310.zip',\n '/Library/Frameworks/Python.framework/Versions/3.10/lib/python3.10',\n '/Library/Frameworks/Python.framework/Versions/3.10/lib/python3.10/lib-dynload',\n '',\n '/Users/thom/PycharmProjects/quick-import/venv/lib/python3.10/site-packages',\n '/Users/thom/PycharmProjects/quick-import/resolve_api_samples',\n '/Users/thom/PycharmProjects/quick-import/resolve_api_samples']"
     },
     "execution_count": 3,
     "metadata": {},
     "output_type": "execute_result"
    }
   ],
   "source": [
    "from resolve_api_samples.Examples.python_get_resolve import GetResolve\n",
    "from pprint import pprint\n",
    "import sys\n",
    "\n",
    "resolve = GetResolve()\n",
    "project_manager = resolve.GetProjectManager()\n",
    "project = project_manager.GetCurrentProject()\n",
    "media_storage = resolve.GetMediaStorage()\n",
    "media_pool = project.GetMediaPool()\n",
    "root_folder = media_pool.GetRootFolder()\n",
    "\n",
    "sys.path.append(\"/Users/thom/PycharmProjects/quick-import/resolve_api_samples\")\n",
    "sys.path"
   ],
   "metadata": {
    "collapsed": false,
    "pycharm": {
     "name": "#%%resolve = GetResolve()\n"
    }
   }
  },
  {
   "cell_type": "code",
   "execution_count": null,
   "outputs": [],
   "source": [],
   "metadata": {
    "collapsed": false,
    "pycharm": {
     "name": "#%%\n"
    }
   }
  }
 ],
 "metadata": {
  "kernelspec": {
   "display_name": "Python 3",
   "language": "python",
   "name": "python3"
  },
  "language_info": {
   "codemirror_mode": {
    "name": "ipython",
    "version": 2
   },
   "file_extension": ".py",
   "mimetype": "text/x-python",
   "name": "python",
   "nbconvert_exporter": "python",
   "pygments_lexer": "ipython2",
   "version": "2.7.6"
  }
 },
 "nbformat": 4,
 "nbformat_minor": 0
}