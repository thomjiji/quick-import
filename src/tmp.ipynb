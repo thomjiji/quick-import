{
 "cells": [
  {
   "cell_type": "code",
   "execution_count": null,
   "outputs": [],
   "source": [
    "from typing import List\n",
    "from resolve_api_init.python_get_resolve import GetResolve\n",
    "\n",
    "media_parent_path = '/Users/thom/Movies/Videos/Footages/tmp/素材'\n",
    "\n",
    "def get_subfolder_name(source_media_fullpath: List[str]):\n",
    "    subfolders_name = []\n",
    "    for i in source_media_fullpath:\n",
    "        split_fullpath = i.split('/')\n",
    "        subfolders_name.append(split_fullpath[-1])\n",
    "    return subfolders_name\n",
    "\n",
    "\n",
    "class Project:\n",
    "    def __init__(self) -> None:\n",
    "        self.resolve = GetResolve()\n",
    "        self.project_manager = self.resolve.GetProjectManager()\n",
    "        self.project = self.project_manager.GetCurrentProject()\n",
    "        self.media_storage = self.resolve.GetMediaStorage()\n",
    "        self.media_pool = self.project.GetMediaPool()\n",
    "        self.root_folder = self.media_pool.GetRootFolder()\n",
    "        # self.timeline = self.project.GetCurrentTimeline()\n",
    "        self.media_fullpath_list = self.media_storage.GetSubFolderList(footage_parent_path)\n",
    "\n",
    "    def get_all_timeline(self) -> list:\n",
    "        \"\"\"\n",
    "        Get all existing timelines.\n",
    "        Return a list containing timeline object.\n",
    "        \"\"\"\n",
    "        all_timeline = []\n",
    "        for timeline_index in range(1, self.project.GetTimelineCount() + 1, 1):\n",
    "            all_timeline.append(self.project.GetTimelineByIndex(timeline_index))\n",
    "        return all_timeline\n",
    "\n",
    "    def get_timeline_by_name(self, timeline_name: str):\n",
    "        \"\"\"Get timeline object by name.\"\"\"\n",
    "        all_timeline = self.get_all_timeline()\n",
    "        timeline_dict = {timeline.GetName(): timeline for timeline in all_timeline}\n",
    "        return timeline_dict.get(timeline_name, \"\")\n",
    "\n",
    "    def get_subfolder_by_name(self, subfolder_name: str):\n",
    "        \"\"\"Get subfolders (folder object) under the root folder in the media pool.\"\"\"\n",
    "        all_subfolder = self.root_folder.GetSubFolderList()\n",
    "        subfolder_dict = {subfolder.GetName(): subfolder for subfolder in all_subfolder}\n",
    "        return subfolder_dict.get(subfolder_name, \"\")\n",
    "\n",
    "project = Project()\n",
    "project.media_fullpath_list"
   ],
   "metadata": {
    "collapsed": false,
    "pycharm": {
     "name": "#%%\n"
    }
   }
  }
 ],
 "metadata": {
  "kernelspec": {
   "display_name": "Python 3",
   "language": "python",
   "name": "python3"
  },
  "language_info": {
   "codemirror_mode": {
    "name": "ipython",
    "version": 2
   },
   "file_extension": ".py",
   "mimetype": "text/x-python",
   "name": "python",
   "nbconvert_exporter": "python",
   "pygments_lexer": "ipython2",
   "version": "2.7.6"
  }
 },
 "nbformat": 4,
 "nbformat_minor": 0
}