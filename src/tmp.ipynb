{
 "cells": [
  {
   "cell_type": "markdown",
   "source": [
    "# classify attempts"
   ],
   "metadata": {
    "collapsed": false,
    "pycharm": {
     "name": "#%% md\n"
    }
   }
  },
  {
   "cell_type": "code",
   "execution_count": null,
   "outputs": [],
   "source": [
    "import os\n",
    "from typing import List\n",
    "from resolve_init import GetResolve\n",
    "\n",
    "media_parent_path = '/Users/thom/Movies/Videos/Footages/tmp/素材'\n",
    "proxy_parent_path = '/Users/thom/Movies/Videos/Footages/tmp/代理'\n",
    "\n",
    "\n",
    "def get_subfolder_name(source_media_fullpath: List[str]):\n",
    "    subfolders_name = []\n",
    "    for i in source_media_fullpath:\n",
    "        split_fullpath = i.split('/')\n",
    "        subfolders_name.append(split_fullpath[-1])\n",
    "    return subfolders_name\n",
    "\n",
    "\n",
    "class Resolve:\n",
    "    def __init__(self) -> None:\n",
    "        self.resolve = GetResolve()\n",
    "        self.project_manager = self.resolve.GetProjectManager()\n",
    "        self.project = self.project_manager.GetCurrentProject()\n",
    "        self.media_storage = self.resolve.GetMediaStorage()\n",
    "        self.media_pool = self.project.GetMediaPool()\n",
    "        self.root_folder = self.media_pool.GetRootFolder()\n",
    "        # self.timeline = self.project.GetCurrentTimeline()\n",
    "        self.media_fullpath_list = self.media_storage.GetSubFolderList(media_parent_path)\n",
    "\n",
    "    def get_all_timeline(self) -> list:\n",
    "        \"\"\"\n",
    "        Get all existing timelines.\n",
    "        Return a list containing timeline object.\n",
    "        \"\"\"\n",
    "        all_timeline = []\n",
    "        for timeline_index in range(1, self.project.GetTimelineCount() + 1, 1):\n",
    "            all_timeline.append(self.project.GetTimelineByIndex(timeline_index))\n",
    "        return all_timeline\n",
    "\n",
    "    def get_timeline_by_name(self, timeline_name: str):\n",
    "        \"\"\"Get timeline object by name.\"\"\"\n",
    "        all_timeline = self.get_all_timeline()\n",
    "        timeline_dict = {timeline.GetName(): timeline for timeline in all_timeline}\n",
    "        return timeline_dict.get(timeline_name, \"\")\n",
    "\n",
    "    def get_subfolder_by_name(self, subfolder_name: str):\n",
    "        \"\"\"Get subfolders (folder object) under the root folder in the media pool.\"\"\"\n",
    "        all_subfolder = self.root_folder.GetSubFolderList()\n",
    "        subfolder_dict = {subfolder.GetName(): subfolder for subfolder in all_subfolder}\n",
    "        return subfolder_dict.get(subfolder_name, \"\")"
   ],
   "metadata": {
    "collapsed": false,
    "pycharm": {
     "name": "#%%\n"
    }
   }
  },
  {
   "cell_type": "code",
   "execution_count": 5,
   "outputs": [
    {
     "data": {
      "text/plain": "'DV#4/PRIVATE/M4ROOT/CLIP/C0004.MP4'"
     },
     "execution_count": 5,
     "metadata": {},
     "output_type": "execute_result"
    }
   ],
   "source": [
    "from pprint import pprint\n",
    "import os\n",
    "from resolve_init import GetResolve\n",
    "\n",
    "media_parent_path = '/Users/thom/Movies/Videos/Footages/tmp/素材'\n",
    "proxy_parent_path = '/Users/thom/Movies/Videos/Footages/tmp/代理'\n",
    "\n",
    "# Initialize Resolve native API\n",
    "resolve = GetResolve()\n",
    "project_manager = resolve.GetProjectManager()\n",
    "project = project_manager.GetCurrentProject()\n",
    "media_storage = resolve.GetMediaStorage()\n",
    "media_pool = project.GetMediaPool()\n",
    "root_folder = media_pool.GetRootFolder()\n",
    "\n",
    "media_fullpath_list = media_storage.GetSubFolderList(media_parent_path)\n",
    "\n",
    "\n",
    "def create_rendering_preset():\n",
    "    proxy_preset = project.GetRenderPresetList()\n",
    "    if len(proxy_preset) < 32:\n",
    "        project.SetCurrentRenderMode(0)\n",
    "        project.SetCurrentRenderFormatAndCodec(\"mov\", \"H265\")\n",
    "        rendering_setting = {\n",
    "            \"TargetDir\": proxy_parent_path,\n",
    "            \"ExportVideo\": True,\n",
    "            \"ExportAudio\": True,\n",
    "            \"VideoQuality\": 5000,\n",
    "            \"EncodingProfile\": \"Main\",\n",
    "            \"MultiPassEncode\": False,\n",
    "            \"AudioCodec\": \"aac\",\n",
    "            \"AudioBitDepth\": 16,\n",
    "            \"AudioSampleRate\": 48000,\n",
    "            \"ColorSpaceTag\": \"Same as Project\",\n",
    "            \"GammaTag\": \"Same as Project\",\n",
    "        }\n",
    "        project.SetRenderSettings(rendering_setting)\n",
    "\n",
    "\n",
    "create_rendering_preset()\n",
    "\n",
    "\n",
    "# # Get render job status. completion percentage of the job.\n",
    "# project.AddRenderJob()\n",
    "# job_id_list = [render_job.get('JobId') for render_job in project.GetRenderJobList() ]\n",
    "# project.GetRenderJobStatus(job_id_list[0])\n",
    "\n",
    "def absolute_file_paths(directory) -> list:\n",
    "    absolute_file_path_list = []\n",
    "    for directory_path, _, filenames in os.walk(directory):\n",
    "        for f in filenames:\n",
    "            absolute_file_path_list.append(os.path.abspath(os.path.join(directory_path, f)))\n",
    "    return absolute_file_path_list\n",
    "\n",
    "\n",
    "INVALID_EXTENSION = [\"DS_Store\", \"JPG\", \"JPEG\", \"SRT\"]  # TODO, 小写的情况还待考虑进去\n",
    "\n",
    "for cam_path in media_fullpath_list:\n",
    "    filename_and_fullpath_dict = {os.path.split(os.path.splitext(path)[0])[1]: path for path in\n",
    "                                  absolute_file_paths(cam_path) if path.split('.')[-1] not in INVALID_EXTENSION}"
   ],
   "metadata": {
    "collapsed": false,
    "pycharm": {
     "name": "#%%\n"
    }
   }
  },
  {
   "cell_type": "code",
   "execution_count": null,
   "outputs": [],
   "source": [],
   "metadata": {
    "collapsed": false,
    "pycharm": {
     "name": "#%%\n"
    }
   }
  }
 ],
 "metadata": {
  "kernelspec": {
   "display_name": "Python 3",
   "language": "python",
   "name": "python3"
  },
  "language_info": {
   "codemirror_mode": {
    "name": "ipython",
    "version": 2
   },
   "file_extension": ".py",
   "mimetype": "text/x-python",
   "name": "python",
   "nbconvert_exporter": "python",
   "pygments_lexer": "ipython2",
   "version": "2.7.6"
  }
 },
 "nbformat": 4,
 "nbformat_minor": 0
}