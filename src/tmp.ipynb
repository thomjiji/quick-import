{
 "cells": [
  {
   "cell_type": "code",
   "execution_count": 138,
   "outputs": [
    {
     "data": {
      "text/plain": "{'/Volumes/thom_7_for_Mac/tmp/素材/A7S3#1/Card 1/220808_GWR_1_0001.MP4': 'A7S3#1',\n '/Volumes/thom_7_for_Mac/tmp/素材/A7S3#1/Card 1/220808_GWR_1_0002.MP4': 'A7S3#1',\n '/Volumes/thom_7_for_Mac/tmp/素材/A7S3#1/Card 1/220808_GWR_1_0003.MP4': 'A7S3#1',\n '/Volumes/thom_7_for_Mac/tmp/素材/A7S3#1/Card 1/220808_GWR_1_0004.MP4': 'A7S3#1',\n '/Volumes/thom_7_for_Mac/tmp/素材/A7S3#1/Card 1/220808_GWR_1_0005.MP4': 'A7S3#1',\n '/Volumes/thom_7_for_Mac/tmp/素材/A7S3#1/Card 1/220808_GWR_1_0006.MP4': 'A7S3#1',\n '/Volumes/thom_7_for_Mac/tmp/素材/A7S3#1/Card 2/220808_GWR_1_0026.MP4': 'A7S3#1',\n '/Volumes/thom_7_for_Mac/tmp/素材/A7S3#1/Card 2/220808_GWR_1_0027.MP4': 'A7S3#1',\n '/Volumes/thom_7_for_Mac/tmp/素材/A7S3#1/Card 2/220808_GWR_1_0028.MP4': 'A7S3#1',\n '/Volumes/thom_7_for_Mac/tmp/素材/A7S3#1/Card 2/220808_GWR_1_0029.MP4': 'A7S3#1',\n '/Volumes/thom_7_for_Mac/tmp/素材/A7S3#1/Card 2/220808_GWR_1_0030.MP4': 'A7S3#1',\n '/Volumes/thom_7_for_Mac/tmp/素材/A7S3#1/Card 2/220808_GWR_1_0031.MP4': 'A7S3#1',\n '/Volumes/thom_7_for_Mac/tmp/素材/A7S3#2/Card 1/M4ROOT/CLIP/220808_GWR_2_0001.MP4': 'A7S3#2',\n '/Volumes/thom_7_for_Mac/tmp/素材/A7S3#2/Card 1/M4ROOT/CLIP/220808_GWR_2_0002.MP4': 'A7S3#2',\n '/Volumes/thom_7_for_Mac/tmp/素材/A7S3#2/Card 1/M4ROOT/CLIP/220808_GWR_2_0003.MP4': 'A7S3#2',\n '/Volumes/thom_7_for_Mac/tmp/素材/A7S3#2/Card 1/M4ROOT/CLIP/220808_GWR_2_0004.MP4': 'A7S3#2',\n '/Volumes/thom_7_for_Mac/tmp/素材/A7S3#2/Card 1/M4ROOT/CLIP/220808_GWR_2_0005.MP4': 'A7S3#2',\n '/Volumes/thom_7_for_Mac/tmp/素材/A7S3#2/Card 1/M4ROOT/CLIP/220808_GWR_2_0006.MP4': 'A7S3#2',\n '/Volumes/thom_7_for_Mac/tmp/素材/A7S3#2/Card 1/M4ROOT/CLIP/220808_GWR_2_0007.MP4': 'A7S3#2',\n '/Volumes/thom_7_for_Mac/tmp/素材/A7S3#2/Card 1/M4ROOT/CLIP/220808_GWR_2_0008.MP4': 'A7S3#2',\n '/Volumes/thom_7_for_Mac/tmp/素材/A7S3#2/Card 1/M4ROOT/CLIP/220808_GWR_2_0011.MP4': 'A7S3#2',\n '/Volumes/thom_7_for_Mac/tmp/素材/A7S3#2/Card 1/M4ROOT/CLIP/220808_GWR_2_0012.MP4': 'A7S3#2',\n '/Volumes/thom_7_for_Mac/tmp/素材/A7S3#2/Card 1/M4ROOT/CLIP/220808_GWR_2_0013.MP4': 'A7S3#2',\n '/Volumes/thom_7_for_Mac/tmp/素材/A7S3#2/Card 2/220808_GWR_2_0092.MP4': 'A7S3#2',\n '/Volumes/thom_7_for_Mac/tmp/素材/A7S3#2/Card 2/220808_GWR_2_0093.MP4': 'A7S3#2',\n '/Volumes/thom_7_for_Mac/tmp/素材/A7S3#2/Card 2/220808_GWR_2_0094.MP4': 'A7S3#2',\n '/Volumes/thom_7_for_Mac/tmp/素材/A7S3#2/Card 2/220808_GWR_2_0095.MP4': 'A7S3#2',\n '/Volumes/thom_7_for_Mac/tmp/素材/A7S3#2/Card 2/220808_GWR_2_0096.MP4': 'A7S3#2',\n '/Volumes/thom_7_for_Mac/tmp/素材/DV#4/PRIVATE/M4ROOT/CLIP/C0001.MP4': 'DV#4',\n '/Volumes/thom_7_for_Mac/tmp/素材/DV#4/PRIVATE/M4ROOT/CLIP/C0002.MP4': 'DV#4',\n '/Volumes/thom_7_for_Mac/tmp/素材/DV#4/PRIVATE/M4ROOT/CLIP/C0003.MP4': 'DV#4',\n '/Volumes/thom_7_for_Mac/tmp/素材/DV#4/PRIVATE/M4ROOT/CLIP/C0004.MP4': 'DV#4',\n '/Volumes/thom_7_for_Mac/tmp/素材/DV#4/PRIVATE/M4ROOT/CLIP/C0005.MP4': 'DV#4',\n '/Volumes/thom_7_for_Mac/tmp/素材/DV#4/PRIVATE/M4ROOT/CLIP/C0006.MP4': 'DV#4',\n '/Volumes/thom_7_for_Mac/tmp/素材/DV#4/PRIVATE/M4ROOT/CLIP/C0007.MP4': 'DV#4',\n '/Volumes/thom_7_for_Mac/tmp/素材/穿越机#5/DJI_0001.MP4': '穿越机#5',\n '/Volumes/thom_7_for_Mac/tmp/素材/穿越机#5/DJI_0002.MP4': '穿越机#5',\n '/Volumes/thom_7_for_Mac/tmp/素材/穿越机#5/DJI_0003.MP4': '穿越机#5',\n '/Volumes/thom_7_for_Mac/tmp/素材/穿越机#5/DJI_0005.MP4': '穿越机#5',\n '/Volumes/thom_7_for_Mac/tmp/素材/穿越机#5/DJI_0006.MP4': '穿越机#5',\n '/Volumes/thom_7_for_Mac/tmp/素材/无人机#6/DJI_0008.MOV': '无人机#6',\n '/Volumes/thom_7_for_Mac/tmp/素材/无人机#6/DJI_0009.MOV': '无人机#6',\n '/Volumes/thom_7_for_Mac/tmp/素材/无人机#6/DJI_0010.MOV': '无人机#6',\n '/Volumes/thom_7_for_Mac/tmp/素材/无人机#6/DJI_0011.MOV': '无人机#6',\n '/Volumes/thom_7_for_Mac/tmp/素材/无人机#6/DJI_0012.MOV': '无人机#6'}"
     },
     "execution_count": 138,
     "metadata": {},
     "output_type": "execute_result"
    }
   ],
   "source": [
    "import os\n",
    "from resolve_api_samples.Examples.python_get_resolve import GetResolve\n",
    "from pprint import pprint\n",
    "import sys\n",
    "from typing import List\n",
    "from collections import Counter\n",
    "\n",
    "resolve = GetResolve()\n",
    "project_manager = resolve.GetProjectManager()\n",
    "project = project_manager.GetCurrentProject()\n",
    "media_storage = resolve.GetMediaStorage()\n",
    "media_pool = project.GetMediaPool()\n",
    "root_folder = media_pool.GetRootFolder()\n",
    "\n",
    "media_path = '/Volumes/thom_7_for_Mac/tmp/素材'\n",
    "sub_folders_full_path = media_storage.GetSubFolderList(media_path)\n",
    "INVALID_EXTENSION = [\"DS_Store\", \"JPG\", \"JPEG\", \"SRT\"]  # TODO, 小写的情况还待考虑进去\n",
    "\n",
    "\n",
    "def absolute_file_paths(directory) -> list:\n",
    "    absolute_file_path_list = []\n",
    "    for directory_path, _, filenames in os.walk(directory):\n",
    "        for f in filenames:\n",
    "            absolute_file_path_list.append(os.path.abspath(os.path.join(directory_path, f)))\n",
    "    return absolute_file_path_list\n",
    "\n",
    "\n",
    "def get_sub_folder_by_name(sub_folder_name: str):\n",
    "    \"\"\"Get folder object by name.\"\"\"\n",
    "    all_sub_folder = root_folder.GetSubFolderList()\n",
    "    sub_folder_dict = {sub_folder.GetName(): sub_folder for sub_folder in all_sub_folder}\n",
    "    return sub_folder_dict.get(sub_folder_name, \"\")\n",
    "\n",
    "\n",
    "# def import_clip() -> None:\n",
    "#     \"\"\"Import footage from media storage into the corresponding sub-folder of the media pool root folder.\"\"\"\n",
    "#     for count, sub_folder in enumerate(root_folder.GetSubFolderList()):\n",
    "#         media_pool.SetCurrentFolder(sub_folder)\n",
    "#         # 导入素材的时候排除 _Timeline 这个目的地 Bin\n",
    "#         if sub_folder.GetName() == \"_Timeline\":\n",
    "#             break\n",
    "#         media_storage.AddItemListToMediaPool(sub_folders_full_path[count])\n",
    "\n",
    "\n",
    "def get_sub_folder_name(source_media_full_path: List[str]) -> List[str]:\n",
    "    \"\"\"\n",
    "    Extract sub-folder name from media storage full path.\n",
    "    For creating sub-folder in the media pool.\n",
    "    \"\"\"\n",
    "    sub_folders_name = []\n",
    "    for i in source_media_full_path:\n",
    "        split_full_path = i.split(\"/\")\n",
    "        sub_folders_name.append(split_full_path[-1])\n",
    "    return sub_folders_name\n",
    "\n",
    "\n",
    "# def import_clip_new() -> None:\n",
    "media_full_path_list = absolute_file_paths(media_path)\n",
    "filename_and_fullpath_dict = {os.path.splitext(path)[0].replace(\".\", \"\").split('/')[-1]: path for path in\n",
    "                              media_full_path_list if path.split(\".\")[-1] not in INVALID_EXTENSION}\n",
    "filename_and_fullpath_keys = list(filename_and_fullpath_dict.keys())\n",
    "filename_and_fullpath_keys.sort()\n",
    "filename_and_fullpath_value = [filename_and_fullpath_dict.get(i) for i in filename_and_fullpath_keys]\n",
    "\n",
    "camname_and_fullpath_dict = {path: path.split('/')[path.split('/').index('素材') + 1] for path in filename_and_fullpath_value\n",
    "                             if path.split('.')[-1] not in INVALID_EXTENSION}\n",
    "\n",
    "cam_list = [path.split('/')[path.split('/').index('素材') + 1] for path in filename_and_fullpath_value]\n",
    "counts = Counter(cam for cam in cam_list)"
   ],
   "metadata": {
    "collapsed": false,
    "pycharm": {
     "name": "#%%resolve = GetResolve()\n"
    }
   }
  },
  {
   "cell_type": "code",
   "execution_count": null,
   "outputs": [],
   "source": [],
   "metadata": {
    "collapsed": false,
    "pycharm": {
     "name": "#%%\n"
    }
   }
  }
 ],
 "metadata": {
  "kernelspec": {
   "display_name": "Python 3",
   "language": "python",
   "name": "python3"
  },
  "language_info": {
   "codemirror_mode": {
    "name": "ipython",
    "version": 2
   },
   "file_extension": ".py",
   "mimetype": "text/x-python",
   "name": "python",
   "nbconvert_exporter": "python",
   "pygments_lexer": "ipython2",
   "version": "2.7.6"
  }
 },
 "nbformat": 4,
 "nbformat_minor": 0
}