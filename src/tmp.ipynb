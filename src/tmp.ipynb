{
 "cells": [
  {
   "cell_type": "code",
   "execution_count": 153,
   "outputs": [],
   "source": [
    "import os\n",
    "from resolve_api_samples.Examples.python_get_resolve import GetResolve\n",
    "from pprint import pprint\n",
    "import sys\n",
    "from typing import List\n",
    "from collections import Counter\n",
    "\n",
    "resolve = GetResolve()\n",
    "project_manager = resolve.GetProjectManager()\n",
    "project = project_manager.GetCurrentProject()\n",
    "media_storage = resolve.GetMediaStorage()\n",
    "media_pool = project.GetMediaPool()\n",
    "root_folder = media_pool.GetRootFolder()\n",
    "\n",
    "media_path = '/Volumes/thom_7_for_Mac/tmp/素材'\n",
    "sub_folders_full_path = media_storage.GetSubFolderList(media_path)\n",
    "INVALID_EXTENSION = [\"DS_Store\", \"JPG\", \"JPEG\", \"SRT\"]  # TODO, 小写的情况还待考虑进去\n",
    "\n",
    "\n",
    "def get_sub_folder_by_name(sub_folder_name: str):\n",
    "    \"\"\"Get folder object by name.\"\"\"\n",
    "    all_sub_folder = root_folder.GetSubFolderList()\n",
    "    sub_folder_dict = {sub_folder.GetName(): sub_folder for sub_folder in all_sub_folder}\n",
    "    return sub_folder_dict.get(sub_folder_name, \"\")\n",
    "\n",
    "\n",
    "def absolute_file_paths(directory) -> list:\n",
    "    absolute_file_path_list = []\n",
    "    for directory_path, _, filenames in os.walk(directory):\n",
    "        for f in filenames:\n",
    "            absolute_file_path_list.append(os.path.abspath(os.path.join(directory_path, f)))\n",
    "    return absolute_file_path_list\n",
    "\n",
    "\n",
    "def import_clip() -> None:\n",
    "    \"\"\"Import footage from media storage into the corresponding sub-folder of the media pool root folder.\"\"\"\n",
    "    for cam_path in sub_folders_full_path:\n",
    "        filename_and_fullpath_dict = {os.path.splitext(path)[0].replace(\".\", \"\").split('/')[-1]: path for path in\n",
    "                                      absolute_file_paths(cam_path) if path.split('.')[-1] not in INVALID_EXTENSION}\n",
    "        filename_and_fullpath_keys = list(filename_and_fullpath_dict.keys())\n",
    "        filename_and_fullpath_keys.sort()\n",
    "        filename_and_fullpath_value = [filename_and_fullpath_dict.get(i) for i in filename_and_fullpath_keys]\n",
    "        current_folder = get_sub_folder_by_name(f\"{cam_path.split('/')[cam_path.split('/').index('素材') + 1]}\")\n",
    "        media_pool.SetCurrentFolder(current_folder)\n",
    "        media_storage.AddItemListToMediaPool(filename_and_fullpath_value)\n",
    "\n",
    "\n",
    "import_clip()"
   ],
   "metadata": {
    "collapsed": false,
    "pycharm": {
     "name": "#%%resolve = GetResolve()\n"
    }
   }
  },
  {
   "cell_type": "code",
   "execution_count": null,
   "outputs": [],
   "source": [],
   "metadata": {
    "collapsed": false,
    "pycharm": {
     "name": "#%%\n"
    }
   }
  }
 ],
 "metadata": {
  "kernelspec": {
   "display_name": "Python 3",
   "language": "python",
   "name": "python3"
  },
  "language_info": {
   "codemirror_mode": {
    "name": "ipython",
    "version": 2
   },
   "file_extension": ".py",
   "mimetype": "text/x-python",
   "name": "python",
   "nbconvert_exporter": "python",
   "pygments_lexer": "ipython2",
   "version": "2.7.6"
  }
 },
 "nbformat": 4,
 "nbformat_minor": 0
}