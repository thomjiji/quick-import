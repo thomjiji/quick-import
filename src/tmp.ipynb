{
 "cells": [
  {
   "cell_type": "code",
   "execution_count": 2,
   "outputs": [],
   "source": [
    "import os\n",
    "from resolve_api_samples.Examples.python_get_resolve import GetResolve\n",
    "from pprint import pprint\n",
    "import sys\n",
    "from typing import List\n",
    "from collections import Counter\n",
    "\n",
    "resolve = GetResolve()\n",
    "project_manager = resolve.GetProjectManager()\n",
    "project = project_manager.GetCurrentProject()\n",
    "media_storage = resolve.GetMediaStorage()\n",
    "media_pool = project.GetMediaPool()\n",
    "root_folder = media_pool.GetRootFolder()\n",
    "\n",
    "# media_path = '/Volumes/thom_7_for_Mac/tmp/素材'\n",
    "media_path = '/Users/thom/Movies/Videos/Footages/悠长假期/素材'\n",
    "sub_folders_full_path = media_storage.GetSubFolderList(media_path)\n",
    "INVALID_EXTENSION = [\"DS_Store\", \"JPG\", \"JPEG\", \"SRT\"]  # TODO, 小写的情况还待考虑进去\n",
    "\n",
    "\n",
    "def get_sub_folder_by_name(sub_folder_name: str):\n",
    "    \"\"\"Get folder object by name.\"\"\"\n",
    "    all_sub_folder = root_folder.GetSubFolderList()\n",
    "    sub_folder_dict = {sub_folder.GetName(): sub_folder for sub_folder in all_sub_folder}\n",
    "    return sub_folder_dict.get(sub_folder_name, \"\")\n",
    "\n",
    "\n",
    "def absolute_file_paths(directory) -> list:\n",
    "    absolute_file_path_list = []\n",
    "    for directory_path, _, filenames in os.walk(directory):\n",
    "        for f in filenames:\n",
    "            absolute_file_path_list.append(os.path.abspath(os.path.join(directory_path, f)))\n",
    "    return absolute_file_path_list\n",
    "\n",
    "\n",
    "def import_clip() -> None:\n",
    "    \"\"\"Import footage from media storage into the corresponding sub-folder of the media pool root folder.\"\"\"\n",
    "    for cam_path in sub_folders_full_path:\n",
    "        filename_and_fullpath_dict = {os.path.splitext(path)[0].replace(\".\", \"\").split('/')[-1]: path for path in\n",
    "                                      absolute_file_paths(cam_path) if path.split('.')[-1] not in INVALID_EXTENSION}\n",
    "        filename_and_fullpath_keys = list(filename_and_fullpath_dict.keys())\n",
    "        filename_and_fullpath_keys.sort()\n",
    "        filename_and_fullpath_value = [filename_and_fullpath_dict.get(i) for i in filename_and_fullpath_keys]\n",
    "        current_folder = get_sub_folder_by_name(f\"{cam_path.split('/')[cam_path.split('/').index('素材') + 1]}\")\n",
    "        media_pool.SetCurrentFolder(current_folder)\n",
    "        media_storage.AddItemListToMediaPool(filename_and_fullpath_value)\n",
    "\n",
    "\n",
    "import_clip()"
   ],
   "metadata": {
    "collapsed": false,
    "pycharm": {
     "name": "#%%resolve = GetResolve()\n"
    }
   }
  },
  {
   "cell_type": "code",
   "execution_count": 25,
   "outputs": [
    {
     "data": {
      "text/plain": "'_Timeline'"
     },
     "execution_count": 25,
     "metadata": {},
     "output_type": "execute_result"
    }
   ],
   "source": [
    "footage_parent_path = '/Users/thom/Movies/Videos/Footages/tmp/素材'\n",
    "\n",
    "\n",
    "def get_subfolder_name(source_media_fullpath: List[str]):\n",
    "    subfolders_name = []\n",
    "    for i in source_media_fullpath:\n",
    "        split_fullpath = i.split('/')\n",
    "        subfolders_name.append(split_fullpath[-1])\n",
    "    return subfolders_name\n",
    "\n",
    "\n",
    "class Project:\n",
    "    def __init__(self) -> None:\n",
    "        self.resolve = GetResolve()\n",
    "        self.projectmanager = self.resolve.GetProjectManager()\n",
    "        self.project = self.projectmanager.GetCurrentProject()\n",
    "        self.media_storage = self.resolve.GetMediaStorage()\n",
    "        self.media_pool = self.project.GetMediaPool()\n",
    "        self.root_folder = self.media_pool.GetRootFolder()\n",
    "        # self.timeline = self.project.GetCurrentTimeline()\n",
    "        self.media_fullpath_list = media_storage.GetSubFolderList(footage_parent_path)\n",
    "\n",
    "    def get_all_timeline(self) -> list:\n",
    "        \"\"\"\n",
    "        Get all existing timelines.\n",
    "        Return a list containing timeline object.\n",
    "        \"\"\"\n",
    "        all_timeline = []\n",
    "        for timeline_index in range(1, self.project.GetTimelineCount() + 1, 1):\n",
    "            all_timeline.append(self.project.GetTimelineByIndex(timeline_index))\n",
    "        return all_timeline\n",
    "\n",
    "    def get_timeline_by_name(self, timeline_name: str):\n",
    "        \"\"\"Get timeline object by name.\"\"\"\n",
    "        all_timeline = self.get_all_timeline()\n",
    "        timeline_dict = {timeline.GetName(): timeline for timeline in all_timeline}\n",
    "        return timeline_dict.get(timeline_name, \"\")\n",
    "\n",
    "    def get_subfolder_by_name(self, subfolder_name: str):\n",
    "        \"\"\"Get subfolders (folder object) under the root folder in the media pool.\"\"\"\n",
    "        all_subfolder = self.root_folder.GetSubFolderList()\n",
    "        subfolder_dict = {subfolder.GetName(): subfolder for subfolder in all_subfolder}\n",
    "        return subfolder_dict.get(subfolder_name, \"\")\n",
    "\n",
    "\n",
    "project = Project()"
   ],
   "metadata": {
    "collapsed": false,
    "pycharm": {
     "name": "#%%\n"
    }
   }
  },
  {
   "cell_type": "code",
   "execution_count": null,
   "outputs": [],
   "source": [],
   "metadata": {
    "collapsed": false,
    "pycharm": {
     "name": "#%%\n"
    }
   }
  }
 ],
 "metadata": {
  "kernelspec": {
   "display_name": "Python 3",
   "language": "python",
   "name": "python3"
  },
  "language_info": {
   "codemirror_mode": {
    "name": "ipython",
    "version": 2
   },
   "file_extension": ".py",
   "mimetype": "text/x-python",
   "name": "python",
   "nbconvert_exporter": "python",
   "pygments_lexer": "ipython2",
   "version": "2.7.6"
  }
 },
 "nbformat": 4,
 "nbformat_minor": 0
}