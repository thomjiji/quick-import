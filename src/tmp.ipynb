{
 "cells": [
  {
   "cell_type": "code",
   "execution_count": 21,
   "outputs": [
    {
     "name": "stdout",
     "output_type": "stream",
     "text": [
      "'/Users/thom/Movies/Videos/Footages/悠长假期/素材/Day_01/FX6#3/CARD#B/A008C0076_220620_005G.MOV'\n",
      "'/Users/thom/Movies/Videos/Footages/悠长假期/素材/Day_01/FX6#3/CARD#A/A008C0081_220620_005G.MOV'\n",
      "'/Users/thom/Movies/Videos/Footages/悠长假期/素材/Day_01/Ronin_4D#1/CARD#A/A008C0101_220620_005G.MOV'\n",
      "'/Users/thom/Movies/Videos/Footages/悠长假期/素材/Day_01/Ronin_4D#1/CARD#A/A010C0037_220622_005G.MOV'\n",
      "'/Users/thom/Movies/Videos/Footages/悠长假期/素材/Day_01/Ronin_4D#1/CARD#A/A010C0044_220622_005G.MOV'\n",
      "'/Users/thom/Movies/Videos/Footages/悠长假期/素材/Day_01/Ronin_4D#2/CARD#C/220709_FX3_A_0083.MP4'\n",
      "'/Users/thom/Movies/Videos/Footages/悠长假期/素材/Day_01/Ronin_4D#2/CARD#A/A011C0010_220623_005G.MOV'\n",
      "'/Users/thom/Movies/Videos/Footages/悠长假期/素材/Day_01/Ronin_4D#2/CARD#A/A011C0018_220623_005G.MOV'\n",
      "'/Users/thom/Movies/Videos/Footages/悠长假期/素材/Day_01/Ronin_4D#2/CARD#A/A011C0022_220623_005G.MOV'\n",
      "'/Users/thom/Movies/Videos/Footages/悠长假期/素材/Day_01/Ronin_4D#2/CARD#A/A011C0033_220623_005G.MOV'\n",
      "'/Users/thom/Movies/Videos/Footages/悠长假期/素材/Day_01/Ronin_4D#2/CARD#B/A011C0034_220623_005G.MOV'\n",
      "'/Users/thom/Movies/Videos/Footages/悠长假期/素材/Day_01/Ronin_4D#2/CARD#B/A011C0041_220623_005G.MOV'\n",
      "'/Users/thom/Movies/Videos/Footages/悠长假期/素材/Day_01/Ronin_4D#2/CARD#B/A011C0051_220623_005G.MOV'\n",
      "'/Users/thom/Movies/Videos/Footages/悠长假期/素材/Day_01/Ronin_4D#2/CARD#C/A011C0093_220624_005G.MOV'\n",
      "'/Users/thom/Movies/Videos/Footages/悠长假期/素材/Day_01/Ronin_4D#2/CARD#C/A011C0096_220624_005G.MOV'\n",
      "'/Users/thom/Movies/Videos/Footages/悠长假期/素材/Day_01/航拍#4/CARD#A/A011C0035_220623_005G.MOV'\n",
      "'/Users/thom/Movies/Videos/Footages/悠长假期/素材/Day_01/音频/观笑.m4a'\n"
     ]
    }
   ],
   "source": [
    "from pprint import pprint\n",
    "from proxy import Resolve\n",
    "\n",
    "r = Resolve('/Volumes/thom_7_for_Mac/tmp/素材')\n",
    "\n",
    "# r.project.GetSetting()\n",
    "\n",
    "# def project_color_setting():\n",
    "#     r.project.SetSetting('colorScienceMode', 'davinciYRGBColorManagedv2')\n",
    "#     r.project.SetSetting('colorSpaceTimeline', 'DaVinci WG/Intermediate')\n",
    "#     r.project.SetSetting('colorSpaceOutput', 'Rec.709 Gamma 2.4')\n",
    "#     r.project.SetSetting('timelineWorkingLuminanceMode', 'SDR 100')\n",
    "#     r.project.SetSetting('timelineWorkingLuminanceMode', 'SDR 100')\n",
    "#     r.project.SetSetting('inputDRT', 'DaVinci')\n",
    "#     r.project.SetSetting('outputDRT', 'DaVinci')\n",
    "#     r.project.SetSetting('useColorSpaceAwareGradingTools', '1')\n",
    "\n",
    "# r.timeline.GetSetting()\n",
    "\n",
    "for subfolder in r.root_folder.GetSubFolderList():\n",
    "    for clip in subfolder.GetClipList():\n",
    "        # clip.SetClipProperty('Input Color Space', 'DJI D-Gamut/D-Log')\n",
    "        pprint(clip.GetClipProperty('File Path'))"
   ],
   "metadata": {
    "collapsed": false,
    "pycharm": {
     "name": "#%%\n"
    }
   }
  }
 ],
 "metadata": {
  "kernelspec": {
   "display_name": "Python 3",
   "language": "python",
   "name": "python3"
  },
  "language_info": {
   "codemirror_mode": {
    "name": "ipython",
    "version": 2
   },
   "file_extension": ".py",
   "mimetype": "text/x-python",
   "name": "python",
   "nbconvert_exporter": "python",
   "pygments_lexer": "ipython2",
   "version": "2.7.6"
  }
 },
 "nbformat": 4,
 "nbformat_minor": 0
}