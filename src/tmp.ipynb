{
 "cells": [
  {
   "cell_type": "code",
   "execution_count": 23,
   "outputs": [
    {
     "data": {
      "text/plain": "True"
     },
     "execution_count": 23,
     "metadata": {},
     "output_type": "execute_result"
    }
   ],
   "source": [
    "import os\n",
    "from pprint import pprint\n",
    "from proxy import Resolve\n",
    "\n",
    "r = Resolve('/Volumes/DIT-2T#3/220826-虾米音乐节@阿那亚/素材/220826-Day_01')\n",
    "\n",
    "r.project.GetSetting()\n",
    "r.project.SetSetting('isAutoColorManage', '0')\n",
    "\n",
    "# for subfolder in r.root_folder.GetSubFolderList():\n",
    "#     for clip in subfolder.GetClipList():\n",
    "#         # clip.SetClipProperty('Input Color Space', 'DJI D-Gamut/D-Log')\n",
    "#         clip_path = clip.GetClipProperty('File Path')\n",
    "#         # print(clip_path)\n",
    "#         cam_name = clip_path.split('/')[clip_path.split('/').index(os.path.basename(r.path)) + 1].split('#')[0]\n",
    "#         print(cam_name)"
   ],
   "metadata": {
    "collapsed": false,
    "pycharm": {
     "name": "#%%\n"
    }
   }
  },
  {
   "cell_type": "code",
   "execution_count": null,
   "outputs": [],
   "source": [],
   "metadata": {
    "collapsed": false,
    "pycharm": {
     "name": "#%%\n"
    }
   }
  }
 ],
 "metadata": {
  "kernelspec": {
   "display_name": "Python 3",
   "language": "python",
   "name": "python3"
  },
  "language_info": {
   "codemirror_mode": {
    "name": "ipython",
    "version": 2
   },
   "file_extension": ".py",
   "mimetype": "text/x-python",
   "name": "python",
   "nbconvert_exporter": "python",
   "pygments_lexer": "ipython2",
   "version": "2.7.6"
  }
 },
 "nbformat": 4,
 "nbformat_minor": 0
}