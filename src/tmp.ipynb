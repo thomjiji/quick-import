{
 "cells": [
  {
   "cell_type": "code",
   "execution_count": 34,
   "outputs": [
    {
     "name": "stdout",
     "output_type": "stream",
     "text": [
      "---\n"
     ]
    }
   ],
   "source": [
    "from pprint import pprint\n",
    "from proxy import Resolve\n",
    "\n",
    "r = Resolve('/Volumes/thom_7_for_Mac/tmp/素材')\n",
    "\n",
    "r.project.GetSetting()\n",
    "# r.project.SetSetting('colorScienceMode', 'davinciYRGBColorManagedv2')\n",
    "# r.project.SetSetting('colorSpaceInput', 'S-Gamut3.Cine/S-Log3')\n",
    "# r.project.SetSetting('colorAcesIDT', 'Sony SLog3 SGamut3Cine')\n",
    "# r.project.SetSetting('colorAcesIDT', 'Panasonic V35')\n",
    "\n",
    "# r.timeline.GetSetting()\n",
    "\n",
    "# for subfolder in r.root_folder.GetSubFolderList():\n",
    "#     for clip in subfolder.GetClipList():\n",
    "#         pprint(clip.GetClipProperty())\n",
    "#         break\n",
    "\n",
    "for subfolder in r.root_folder.GetSubFolderList():\n",
    "    if subfolder.GetClipList():\n",
    "        print(\"---\")"
   ],
   "metadata": {
    "collapsed": false,
    "pycharm": {
     "name": "#%%\n"
    }
   }
  },
  {
   "cell_type": "code",
   "execution_count": null,
   "outputs": [],
   "source": [],
   "metadata": {
    "collapsed": false,
    "pycharm": {
     "name": "#%%\n"
    }
   }
  }
 ],
 "metadata": {
  "kernelspec": {
   "display_name": "Python 3",
   "language": "python",
   "name": "python3"
  },
  "language_info": {
   "codemirror_mode": {
    "name": "ipython",
    "version": 2
   },
   "file_extension": ".py",
   "mimetype": "text/x-python",
   "name": "python",
   "nbconvert_exporter": "python",
   "pygments_lexer": "ipython2",
   "version": "2.7.6"
  }
 },
 "nbformat": 4,
 "nbformat_minor": 0
}