{
 "cells": [
  {
   "cell_type": "code",
   "execution_count": 1,
   "outputs": [
    {
     "name": "stdout",
     "output_type": "stream",
     "text": [
      "Unable to find module DaVinciResolveScript from $PYTHONPATH - trying default locations\n"
     ]
    },
    {
     "data": {
      "text/plain": "{'audioCaptureNumChannels': '2',\n 'audioOutputHasTimecode': '0',\n 'audioPlayoutNumChannels': '2',\n 'colorAcesGamutCompressType': 'None',\n 'colorAcesIDT': 'No Input Transform',\n 'colorAcesNodeLUTProcessingSpace': 'acesccAp1',\n 'colorAcesODT': 'No Output Transform',\n 'colorGalleryStillsLocation': '/Users/thom/Movies/.gallery',\n 'colorGalleryStillsNamingCustomPattern': '',\n 'colorGalleryStillsNamingEnabled': '0',\n 'colorGalleryStillsNamingPattern': 'clipName',\n 'colorGalleryStillsNamingWithStillNumber': 'off',\n 'colorKeyframeDynamicsEndProfile': '1',\n 'colorKeyframeDynamicsStartProfile': '1',\n 'colorLuminanceMixerDefaultZero': '0',\n 'colorScienceMode': 'davinciYRGBColorManagedv2',\n 'colorSpaceInput': 'Rec.709 Gamma 2.4',\n 'colorSpaceInputGamma': '',\n 'colorSpaceOutput': 'Rec.709 Gamma 2.4',\n 'colorSpaceOutputGamma': 'ACEScc',\n 'colorSpaceOutputGamutMapping': 'None',\n 'colorSpaceOutputGamutSaturationKnee': '0.9',\n 'colorSpaceOutputGamutSaturationMax': '1',\n 'colorSpaceOutputToneLuminanceMax': '100',\n 'colorSpaceOutputToneMapping': 'None',\n 'colorSpaceTimeline': 'DaVinci WG',\n 'colorSpaceTimelineGamma': '',\n 'colorUseBGRPixelOrderForDPX': '0',\n 'colorUseContrastSCurve': '1',\n 'colorUseLegacyLogGrades': '2',\n 'colorUseLocalVersionsAsDefault': '1',\n 'colorUseStereoConvergenceForEffects': '0',\n 'colorVersion10Name': '',\n 'colorVersion1Name': '',\n 'colorVersion2Name': '',\n 'colorVersion3Name': '',\n 'colorVersion4Name': '',\n 'colorVersion5Name': '',\n 'colorVersion6Name': '',\n 'colorVersion7Name': '',\n 'colorVersion8Name': '',\n 'colorVersion9Name': '',\n 'graphicsWhiteLevel': '100',\n 'hdr10PlusControlsOn': '0',\n 'hdrDolbyControlsOn': '0',\n 'hdrDolbyMasterDisplay': '4000-nit, P3, D65, ST.2084, Full',\n 'hdrDolbyVersion': '4.0',\n 'hdrMasteringLuminanceMax': '1000',\n 'hdrMasteringOn': '0',\n 'imageDeinterlaceQuality': 'normal',\n 'imageEnableFieldProcessing': '0',\n 'imageMotionEstimationMode': 'standardFaster',\n 'imageMotionEstimationRange': 'medium',\n 'imageResizeMode': 'sharper',\n 'imageResizingGamma': 'Timeline',\n 'imageRetimeInterpolation': 'nearest',\n 'inputDRT': 'DaVinci',\n 'inputDRTSatRolloffLimit': '10000',\n 'inputDRTSatRolloffStart': '100',\n 'isAutoColorManage': '0',\n 'limitAudioMeterAlignLevel': '0',\n 'limitAudioMeterDisplayMode': 'post_fader',\n 'limitAudioMeterHighLevel': '-5',\n 'limitAudioMeterLUFS': '-23',\n 'limitAudioMeterLoudnessScale': 'ebu_9_scale',\n 'limitAudioMeterLowLevel': '-10',\n 'limitBroadcastSafeLevels': '20_120',\n 'limitBroadcastSafeOn': '0',\n 'limitSubtitleCPL': '60',\n 'limitSubtitleCaptionDurationSec': '3',\n 'outputDRT': 'DaVinci',\n 'outputDRTSatRolloffLimit': '10000',\n 'outputDRTSatRolloffStart': '100',\n 'perfAutoRenderCacheAfterTime': '5',\n 'perfAutoRenderCacheComposite': '0',\n 'perfAutoRenderCacheEnable': '1',\n 'perfAutoRenderCacheFuEffect': '1',\n 'perfAutoRenderCacheTransition': '0',\n 'perfCacheClipsLocation': 'CacheClip',\n 'perfOptimisedCodec': 'apch',\n 'perfOptimisedMediaOn': '1',\n 'perfOptimizedResolutionRatio': 'auto',\n 'perfProxyMediaMode': '1',\n 'perfProxyResolutionRatio': 'original',\n 'perfRenderCacheCodec': 'apch',\n 'perfRenderCacheMode': 'none',\n 'rcmPresetMode': 'Custom',\n 'separateColorSpaceAndGamma': '0',\n 'superScaleNoiseReduction': 'Medium',\n 'superScaleSharpness': 'Medium',\n 'timelineDropFrameTimecode': '0',\n 'timelineFrameRate': 25.0,\n 'timelineFrameRateMismatchBehavior': 'resolve',\n 'timelineInputResMismatchBehavior': 'scaleToFit',\n 'timelineInputResMismatchCustomPreset': 'None',\n 'timelineInputResMismatchUseCustomPreset': '0',\n 'timelineInterlaceProcessing': '0',\n 'timelineOutputPixelAspectRatio': 'square',\n 'timelineOutputResMatchTimelineRes': '1',\n 'timelineOutputResMismatchBehavior': 'scaleToFit',\n 'timelineOutputResMismatchCustomPreset': 'None',\n 'timelineOutputResMismatchUseCustomPreset': '0',\n 'timelineOutputResolutionHeight': '1080',\n 'timelineOutputResolutionWidth': '2048',\n 'timelinePixelAspectRatio': 'square',\n 'timelinePlaybackFrameRate': '24',\n 'timelineResolutionHeight': '1080',\n 'timelineResolutionWidth': '2048',\n 'timelineSaveThumbsInProject': '0',\n 'timelineWorkingLuminance': '1000',\n 'timelineWorkingLuminanceMode': 'SDR 100',\n 'useCATransform': '1',\n 'useColorSpaceAwareGradingTools': '1',\n 'useInverseDRT': '0',\n 'videoCaptureCodec': 'apch',\n 'videoCaptureFormat': 'mov',\n 'videoCaptureIngestHandles': '0',\n 'videoCaptureLocation': '/Users/thom/Movies/Capture',\n 'videoCaptureMode': 'video_audio',\n 'videoDataLevels': 'Video',\n 'videoDataLevelsRetainSubblockAndSuperWhiteData': '0',\n 'videoDeckAdd32Pulldown': '0',\n 'videoDeckBitDepth': '10',\n 'videoDeckFormat': 'HD 1080PsF 24',\n 'videoDeckNonAutoEditFrames': '0',\n 'videoDeckOutputSyncSource': 'auto',\n 'videoDeckPrerollSec': '5',\n 'videoDeckSDIConfiguration': 'none',\n 'videoDeckUse444SDI': '0',\n 'videoDeckUseAudoEdit': '1',\n 'videoDeckUseStereoSDI': '0',\n 'videoMonitorBitDepth': '10',\n 'videoMonitorFormat': 'HD 1080p 24',\n 'videoMonitorMatrixOverrideFor422SDI': 'Rec.601',\n 'videoMonitorSDIConfiguration': 'dual_link',\n 'videoMonitorScaling': 'bilinear',\n 'videoMonitorUse444SDI': '0',\n 'videoMonitorUseHDROverHDMI': '0',\n 'videoMonitorUseLevelA': '0',\n 'videoMonitorUseMatrixOverrideFor422SDI': '0',\n 'videoMonitorUseStereoSDI': '0',\n 'videoPlayoutAudioFramesOffset': '0',\n 'videoPlayoutBatchHeadDuration': '8',\n 'videoPlayoutBatchTailDuration': '8',\n 'videoPlayoutLTCFramesOffset': '0',\n 'videoPlayoutMode': 'video_audio',\n 'videoPlayoutShowLTC': '0',\n 'videoPlayoutShowSourceTimecode': '0',\n 'superScale': 1}"
     },
     "execution_count": 1,
     "metadata": {},
     "output_type": "execute_result"
    }
   ],
   "source": [
    "from proxy import Resolve\n",
    "\n",
    "re = Resolve('/Users/thom/Movies/Videos/Footages/悠长假期/素材')\n",
    "re.project.GetSetting()"
   ],
   "metadata": {
    "collapsed": false,
    "pycharm": {
     "name": "#%%\n"
    }
   }
  }
 ],
 "metadata": {
  "kernelspec": {
   "display_name": "Python 3",
   "language": "python",
   "name": "python3"
  },
  "language_info": {
   "codemirror_mode": {
    "name": "ipython",
    "version": 2
   },
   "file_extension": ".py",
   "mimetype": "text/x-python",
   "name": "python",
   "nbconvert_exporter": "python",
   "pygments_lexer": "ipython2",
   "version": "2.7.6"
  }
 },
 "nbformat": 4,
 "nbformat_minor": 0
}