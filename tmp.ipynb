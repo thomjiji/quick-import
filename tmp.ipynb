{
 "cells": [
  {
   "cell_type": "code",
   "execution_count": null,
   "metadata": {
    "collapsed": false,
    "pycharm": {
     "name": "#%%\n"
    }
   },
   "outputs": [],
   "source": [
    "from typing import List\n",
    "from pybmd.timeline import Timeline\n",
    "\n",
    "\n",
    "class Resolve:\n",
    "    \"\"\"Resolve class\"\"\"\n",
    "\n",
    "    def __init__(self):\n",
    "        self.resolve = GetResolve()\n",
    "        self.project_manager = self.resolve.GetProjectManager()\n",
    "        self.project = self.project_manager.GetCurrentProject()\n",
    "        self.media_storage = self.resolve.GetMediaStorage()\n",
    "        self.media_pool = self.project.GetMediaPool()\n",
    "        self.root_folder = self.media_pool.GetRootFolder()\n",
    "        self.timeline = self.project.GetCurrentTimeline()\n",
    "\n",
    "    def get_all_timeline(self) -> List[timeline.Timeline]:\n",
    "        \"\"\"Get all existing timelines. Return a list containing all the timeline object.\"\"\"\n",
    "        all_timeline = []\n",
    "        for timeline_index in range(1, self.project.GetTimelineCount() + 1, 1):\n",
    "            all_timeline.append(self.project.GetTimelineByIndex(timeline_index))\n",
    "        return all_timeline\n",
    "\n",
    "    def get_timeline_by_name(self, timeline_name: str) -> timeline.Timeline:\n",
    "        \"\"\"Get timeline object by name.\"\"\"\n",
    "        all_timeline = self.get_all_timeline()\n",
    "        timeline_dict = {timeline.GetName(): timeline for timeline in all_timeline}\n",
    "        return timeline_dict.get(timeline_name, \"\")\n",
    "\n",
    "    def get_subfolder_by_name(self, subfolder_name: str) -> folder.Folder:\n",
    "        \"\"\"Get subfolder (Folder object) under the root folder in the media pool.\"\"\"\n",
    "        all_subfolder = self.root_folder.GetSubFolderList()\n",
    "        subfolder_dict = {subfolder.GetName(): subfolder for subfolder in all_subfolder}\n",
    "        return subfolder_dict.get(subfolder_name, \"\")\n"
   ]
  }
 ],
 "metadata": {
  "kernelspec": {
   "display_name": "Python 3.10.6 64-bit",
   "language": "python",
   "name": "python3"
  },
  "language_info": {
   "codemirror_mode": {
    "name": "ipython",
    "version": 3
   },
   "file_extension": ".py",
   "mimetype": "text/x-python",
   "name": "python",
   "nbconvert_exporter": "python",
   "pygments_lexer": "ipython3",
   "version": "3.10.6"
  },
  "vscode": {
   "interpreter": {
    "hash": "b0fa6594d8f4cbf19f97940f81e996739fb7646882a419484c72d19e05852a7e"
   }
  }
 },
 "nbformat": 4,
 "nbformat_minor": 0
}
