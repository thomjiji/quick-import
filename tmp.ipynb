{
 "cells": [
  {
   "cell_type": "code",
   "execution_count": null,
   "metadata": {
    "collapsed": false,
    "pycharm": {
     "name": "#%%\n"
    }
   },
   "outputs": [],
   "source": [
    "from src.resolve_toolkits.resolve import Resolve\n",
    "\n",
    "r = Resolve()\n",
    "\n",
    "# Before setting timeline colorspace and output colorspace\n",
    "timeline_colorspace = r.project.GetSetting('colorSpaceTimeline')\n",
    "output_colorspace = r.project.GetSetting('colorSpaceOutput')\n",
    "print(\"Before setting\")\n",
    "print(\"--------------\")\n",
    "print(f\"Current timeline colorspace is '{timeline_colorspace}'\")\n",
    "print(f\"Current output colorspace is '{output_colorspace}'\")\n",
    "print(\"\\n\")\n",
    "\n",
    "# Set timeline colorspace and output colorspace\n",
    "print(r.project.SetSetting('colorSpaceTimeline', 'Rec.709 Gamma 2.4'))\n",
    "print(r.project.SetSetting('colorSpaceOutput', 'Same as Timeline'))\n",
    "print(\"\\n\")\n",
    "\n",
    "# After setting timeline colorspace and output color space\n",
    "timeline_colorspace = r.project.GetSetting('colorSpaceTimeline')\n",
    "output_colorspace = r.project.GetSetting('colorSpaceOutput')\n",
    "print(\"After setting\")\n",
    "print(\"--------------\")\n",
    "print(f\"Current timeline colorspace is '{timeline_colorspace}'\")\n",
    "print(f\"Current output colorspace is '{output_colorspace}'\")"
   ]
  },
  {
   "cell_type": "code",
   "execution_count": 2,
   "metadata": {
    "collapsed": false,
    "pycharm": {
     "name": "#%%\n"
    }
   },
   "outputs": [
    {
     "data": {
      "text/plain": [
       "<bound method Path.cwd of <class 'pathlib.PosixPath'>>"
      ]
     },
     "execution_count": 2,
     "metadata": {},
     "output_type": "execute_result"
    }
   ],
   "source": [
    "import pathlib\n",
    "\n",
    "media_path = pathlib.Path(\"/Volumes/thom_7_for_Mac/tmp/悠长假期/素材\")"
   ]
  },
  {
   "cell_type": "code",
   "execution_count": null,
   "metadata": {
    "collapsed": false,
    "pycharm": {
     "name": "#%%\n"
    }
   },
   "outputs": [],
   "source": []
  }
 ],
 "metadata": {
  "kernelspec": {
   "display_name": "Python 3.10.6 64-bit",
   "language": "python",
   "name": "python3"
  },
  "language_info": {
   "codemirror_mode": {
    "name": "ipython",
    "version": 3
   },
   "file_extension": ".py",
   "mimetype": "text/x-python",
   "name": "python",
   "nbconvert_exporter": "python",
   "pygments_lexer": "ipython3",
   "version": "3.10.6"
  },
  "vscode": {
   "interpreter": {
    "hash": "b0fa6594d8f4cbf19f97940f81e996739fb7646882a419484c72d19e05852a7e"
   }
  }
 },
 "nbformat": 4,
 "nbformat_minor": 0
}