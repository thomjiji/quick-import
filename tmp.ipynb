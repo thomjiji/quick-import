{
 "cells": [
  {
   "cell_type": "code",
   "execution_count": 28,
   "metadata": {
    "collapsed": false,
    "pycharm": {
     "name": "#%%\n"
    }
   },
   "outputs": [
    {
     "name": "stdout",
     "output_type": "stream",
     "text": [
      "Before setting\n",
      "--------------\n",
      "Current timeline colorspace is 'Rec.709 Gamma 2.4'\n",
      "Current output colorspace is 'Same as Timeline'\n",
      "\n",
      "\n",
      "True\n",
      "False\n",
      "\n",
      "\n",
      "After setting\n",
      "--------------\n",
      "Current timeline colorspace is 'Rec.709 Gamma 2.4'\n",
      "Current output colorspace is 'Same as Timeline'\n"
     ]
    }
   ],
   "source": [
    "from src.resolve_toolkits.resolve import Resolve\n",
    "\n",
    "r = Resolve()\n",
    "\n",
    "# Before setting timeline colorspace and output colorspace\n",
    "timeline_colorspace = r.project.GetSetting('colorSpaceTimeline')\n",
    "output_colorspace = r.project.GetSetting('colorSpaceOutput')\n",
    "print(\"Before setting\")\n",
    "print(\"--------------\")\n",
    "print(f\"Current timeline colorspace is '{timeline_colorspace}'\")\n",
    "print(f\"Current output colorspace is '{output_colorspace}'\")\n",
    "print(\"\\n\")\n",
    "\n",
    "# Set timeline colorspace and output colorspace\n",
    "print(r.project.SetSetting('colorSpaceTimeline', 'Rec.709 Gamma 2.4'))\n",
    "print(r.project.SetSetting('colorSpaceOutput', 'Rec.709 Gamma 2.4'))\n",
    "print(\"\\n\")\n",
    "\n",
    "# After setting timeline colorspace and output color space\n",
    "timeline_colorspace = r.project.GetSetting('colorSpaceTimeline')\n",
    "output_colorspace = r.project.GetSetting('colorSpaceOutput')\n",
    "print(\"After setting\")\n",
    "print(\"--------------\")\n",
    "print(f\"Current timeline colorspace is '{timeline_colorspace}'\")\n",
    "print(f\"Current output colorspace is '{output_colorspace}'\")"
   ]
  },
  {
   "cell_type": "code",
   "execution_count": 42,
   "outputs": [
    {
     "data": {
      "text/plain": "False"
     },
     "execution_count": 42,
     "metadata": {},
     "output_type": "execute_result"
    }
   ],
   "source": [
    "from src.resolve_toolkits.resolve import Resolve\n",
    "import re\n",
    "\n",
    "r = Resolve()\n",
    "presets = r.project.GetRenderPresetList()\n",
    "presets\n",
    "\n",
    "not all(re.search(r\".*(Proxy).*(H\\.265).*\", preset) for preset in r.project.GetRenderPresetList())\n",
    "\n",
    "# r.project.GetRenderFormats()\n",
    "# r.project.GetCurrentRenderMode()\n",
    "# r.project.GetCurrentRenderFormatAndCodec()"
   ],
   "metadata": {
    "collapsed": false,
    "pycharm": {
     "name": "#%%\n"
    }
   }
  },
  {
   "cell_type": "code",
   "execution_count": 47,
   "outputs": [
    {
     "name": "stdout",
     "output_type": "stream",
     "text": [
      "False\n"
     ]
    }
   ],
   "source": [
    "l = [False, False, \"\", [], False]\n",
    "print(any(l))"
   ],
   "metadata": {
    "collapsed": false,
    "pycharm": {
     "name": "#%%l = [0, 0, False]\n"
    }
   }
  },
  {
   "cell_type": "code",
   "execution_count": null,
   "outputs": [],
   "source": [],
   "metadata": {
    "collapsed": false,
    "pycharm": {
     "name": "#%%\n"
    }
   }
  }
 ],
 "metadata": {
  "kernelspec": {
   "display_name": "Python 3.10.6 64-bit",
   "language": "python",
   "name": "python3"
  },
  "language_info": {
   "codemirror_mode": {
    "name": "ipython",
    "version": 3
   },
   "file_extension": ".py",
   "mimetype": "text/x-python",
   "name": "python",
   "nbconvert_exporter": "python",
   "pygments_lexer": "ipython3",
   "version": "3.10.6"
  },
  "vscode": {
   "interpreter": {
    "hash": "b0fa6594d8f4cbf19f97940f81e996739fb7646882a419484c72d19e05852a7e"
   }
  }
 },
 "nbformat": 4,
 "nbformat_minor": 0
}