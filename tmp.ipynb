{
 "cells": [
  {
   "cell_type": "code",
   "execution_count": 25,
   "outputs": [
    {
     "data": {
      "text/plain": "<BlackmagicFusion.PyRemoteObject at 0x106d288f0>"
     },
     "execution_count": 25,
     "metadata": {},
     "output_type": "execute_result"
    }
   ],
   "source": [
    "from src.resolve_toolkits.resolve import Resolve\n",
    "\n",
    "r = Resolve()\n",
    "abs_media_path = \"/Volumes/thom_7_for_Mac/tmp/悠长假期/素材/Day_01/Ronin_4D#2/CARD#C/220709_FX3_A_0083.MP4\"\n",
    "media_parent_dir = \"Day_01\"\n",
    "\n",
    "# cam_name_index = abs_media_path.split('/').index(media_parent_dir) + 1\n",
    "# name = abs_media_path.split('/')[cam_name_index]\n",
    "name = abs_media_path.split('/')[abs_media_path.split('/').index(media_parent_dir) + 1]\n",
    "\n",
    "r.get_subfolder_by_name(f\"{abs_media_path.split('/')[abs_media_path.split('/').index(media_parent_dir) + 1]}\")"
   ],
   "metadata": {
    "collapsed": false,
    "pycharm": {
     "name": "#%%\n"
    }
   }
  },
  {
   "cell_type": "code",
   "execution_count": null,
   "outputs": [],
   "source": [],
   "metadata": {
    "collapsed": false,
    "pycharm": {
     "name": "#%%\n"
    }
   }
  }
 ],
 "metadata": {
  "kernelspec": {
   "display_name": "Python 3.10.6 64-bit",
   "language": "python",
   "name": "python3"
  },
  "language_info": {
   "codemirror_mode": {
    "name": "ipython",
    "version": 3
   },
   "file_extension": ".py",
   "mimetype": "text/x-python",
   "name": "python",
   "nbconvert_exporter": "python",
   "pygments_lexer": "ipython3",
   "version": "3.10.6"
  },
  "vscode": {
   "interpreter": {
    "hash": "b0fa6594d8f4cbf19f97940f81e996739fb7646882a419484c72d19e05852a7e"
   }
  }
 },
 "nbformat": 4,
 "nbformat_minor": 0
}