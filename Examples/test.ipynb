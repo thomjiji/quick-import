{
 "cells": [
  {
   "cell_type": "code",
   "execution_count": 12,
   "outputs": [
    {
     "name": "stdout",
     "output_type": "stream",
     "text": [
      "timeline 1 width: 3840\n",
      "timeline 1 height: 2160\n",
      "timeline 1 frame rate: 24\n"
     ]
    }
   ],
   "source": [
    "import sys\n",
    "from pprint import pprint\n",
    "\n",
    "import pybmd\n",
    "\n",
    "from python_get_resolve import GetResolve\n",
    "\n",
    "resolve = GetResolve()\n",
    "project_manager = resolve.GetProjectManager()\n",
    "project = project_manager.GetCurrentProject()\n",
    "media_storage = resolve.GetMediaStorage()\n",
    "media_pool = project.GetMediaPool()\n",
    "sub_folder = media_pool.GetRootFolder().GetSubFolderList()[0]\n",
    "\n",
    "# create timeline 1\n",
    "project.SetSetting('timelineResolutionWidth', \"1920\")\n",
    "project.SetSetting('timelineResolutionHeight', \"1080\")\n",
    "# project.SetSetting('timelineFrameRate', 25)\n",
    "media_pool.CreateEmptyTimeline(\"timeline 1\")\n",
    "while True:\n",
    "    terminate_input = input(\"请取消勾选 timeline 1 的 use project setting，取消勾选完毕请输入 OK。程序将继续运行。\")\n",
    "    if terminate_input == \"OK\":\n",
    "        break\n",
    "media_pool.AppendToTimeline(sub_folder.GetClipList()[0])\n",
    "project.GetCurrentTimeline().SetSetting(\"timelineResolutionWidth\", \"3840\")\n",
    "project.GetCurrentTimeline().SetSetting(\"timelineResolutionHeight\", \"2160\")\n",
    "if project.SetSetting('timelineFrameRate', float(25)):\n",
    "    print(\"set timeline frame rate successful\")\n",
    "print(f\"timeline 1 width: {project.GetCurrentTimeline().GetSetting()['timelineResolutionWidth']}\")\n",
    "print(f\"timeline 1 height: {project.GetCurrentTimeline().GetSetting()['timelineResolutionHeight']}\")\n",
    "print(f\"timeline 1 frame rate: {project.GetCurrentTimeline().GetSetting()['timelineFrameRate']}\")\n",
    "#\n",
    "# # create timeline 2\n",
    "# project.SetSetting('timelineResolutionWidth', \"4096\")\n",
    "# project.SetSetting('timelineResolutionHeight', \"2160\")\n",
    "# # media_pool.CreateTimelineFromClips(\"timeline 2\", sub_folder.GetClipList())\n",
    "# media_pool.CreateEmptyTimeline(\"timeline 2\")\n",
    "# media_pool.AppendToTimeline(sub_folder.GetClipList()[1])\n",
    "# print(f\"timeline 2 width: {project.GetCurrentTimeline().GetSetting()['timelineResolutionWidth']}\")\n",
    "# print(f\"timeline 2 height: {project.GetCurrentTimeline().GetSetting()['timelineResolutionHeight']}\")"
   ],
   "metadata": {
    "collapsed": false,
    "pycharm": {
     "name": "#%%resolve = GetResolve()\n"
    }
   }
  },
  {
   "cell_type": "code",
   "execution_count": 7,
   "outputs": [
    {
     "name": "stdout",
     "output_type": "stream",
     "text": [
      "ok!\n"
     ]
    }
   ],
   "source": [
    "while True:\n",
    "    x = input(\"what do you want?\")\n",
    "    if x == \"Y\":\n",
    "        print(\"ok!\")\n",
    "        break"
   ],
   "metadata": {
    "collapsed": false,
    "pycharm": {
     "name": "#%%\n"
    }
   }
  },
  {
   "cell_type": "code",
   "execution_count": 11,
   "outputs": [
    {
     "name": "stdout",
     "output_type": "stream",
     "text": [
      "<class 'float'>\n"
     ]
    }
   ],
   "source": [
    "\n",
    "from pybmd import Bmd\n",
    "\n",
    "resolve = Bmd()\n",
    "project = resolve.get_project_manager().get_current_project()\n",
    "x = project.get_setting()['timelineFrameRate']\n",
    "print(type(x))"
   ],
   "metadata": {
    "collapsed": false,
    "pycharm": {
     "name": "#%%\n"
    }
   }
  },
  {
   "cell_type": "code",
   "execution_count": null,
   "outputs": [],
   "source": [],
   "metadata": {
    "collapsed": false,
    "pycharm": {
     "name": "#%%\n"
    }
   }
  }
 ],
 "metadata": {
  "kernelspec": {
   "display_name": "Python 3",
   "language": "python",
   "name": "python3"
  },
  "language_info": {
   "codemirror_mode": {
    "name": "ipython",
    "version": 2
   },
   "file_extension": ".py",
   "mimetype": "text/x-python",
   "name": "python",
   "nbconvert_exporter": "python",
   "pygments_lexer": "ipython2",
   "version": "2.7.6"
  }
 },
 "nbformat": 4,
 "nbformat_minor": 0
}