{
 "cells": [
  {
   "cell_type": "code",
   "execution_count": 69,
   "outputs": [
    {
     "name": "stdout",
     "output_type": "stream",
     "text": [
      "A008C0081_220620_005G.MOV\n",
      "A008C0076_220620_005G.MOV\n",
      "A008C0101_220620_005G.MOV\n",
      "A010C0044_220622_005G.MOV\n",
      "A010C0037_220622_005G.MOV\n",
      "A011C0022_220623_005G.MOV\n",
      "A011C0033_220623_005G.MOV\n",
      "A011C0010_220623_005G.MOV\n",
      "A011C0018_220623_005G.MOV\n",
      "A011C0041_220623_005G.MOV\n",
      "A011C0051_220623_005G.MOV\n",
      "A011C0034_220623_005G.MOV\n",
      "220709_FX3_A_0083.MP4\n",
      "A011C0093_220624_005G.MOV\n",
      "A011C0096_220624_005G.MOV\n",
      "A011C0035_220623_005G.MOV\n",
      "FX6#3_2048x856\n",
      "Ronin_4D#1_2048x856\n",
      "Ronin_4D#1_2048x1080\n",
      "Ronin_4D#2_2048x1080\n",
      "Ronin_4D#2_1920x1080\n",
      "航拍#4_2048x1080\n"
     ]
    }
   ],
   "source": [
    "import sys\n",
    "from pprint import pprint\n",
    "\n",
    "import pybmd\n",
    "\n",
    "from python_get_resolve import GetResolve\n",
    "\n",
    "resolve = GetResolve()\n",
    "project_manager = resolve.GetProjectManager()\n",
    "project = project_manager.GetCurrentProject()\n",
    "media_storage = resolve.GetMediaStorage()\n",
    "media_pool = project.GetMediaPool()\n",
    "sub_folder = media_pool.GetRootFolder().GetSubFolderList()[0]\n",
    "\n",
    "# # create timeline 1\n",
    "# project.SetSetting('timelineResolutionWidth', \"1920\")\n",
    "# project.SetSetting('timelineResolutionHeight', \"1080\")\n",
    "# media_pool.CreateEmptyTimeline(\"timeline 1\")\n",
    "# # while True:\n",
    "# #     terminate_input = input(\"请取消勾选 timeline 1 的 use project setting，取消勾选完毕请输入 OK。程序将继续运行。\")\n",
    "# #     if terminate_input == \"OK\":\n",
    "# #         break\n",
    "# media_pool.AppendToTimeline(sub_folder.GetClipList()[0])\n",
    "# project.GetCurrentTimeline().SetSetting(\"timelineResolutionWidth\", \"3840\")\n",
    "# project.GetCurrentTimeline().SetSetting(\"timelineResolutionHeight\", \"2160\")\n",
    "# if project.SetSetting('timelineFrameRate', float(25)):\n",
    "#     print(\"set timeline frame rate successful\")\n",
    "# print(f\"timeline 1 width: {project.GetCurrentTimeline().GetSetting()['timelineResolutionWidth']}\")\n",
    "# print(f\"timeline 1 height: {project.GetCurrentTimeline().GetSetting()['timelineResolutionHeight']}\")\n",
    "# print(f\"timeline 1 frame rate: {project.GetCurrentTimeline().GetSetting()['timelineFrameRate']}\")\n",
    "\n",
    "root_folder = media_pool.GetRootFolder()\n",
    "for sub_folder in root_folder.GetSubFolderList():\n",
    "    for clip in sub_folder.GetClipList():\n",
    "        print(clip.GetName())\n"
   ],
   "metadata": {
    "collapsed": false,
    "pycharm": {
     "name": "#%%resolve = GetResolve()\n"
    }
   }
  },
  {
   "cell_type": "code",
   "execution_count": 38,
   "outputs": [
    {
     "name": "stdout",
     "output_type": "stream",
     "text": [
      "well done\n"
     ]
    }
   ],
   "source": [
    "from pybmd import Bmd\n",
    "\n",
    "resolve = Bmd()\n",
    "project = resolve.get_project_manager().get_current_project()\n",
    "media_pool = project.get_media_pool()\n",
    "# media_pool.create_empty_timeline(\"tmp\")\n",
    "timeline = project.get_current_timeline()\n",
    "if timeline.set_setting('useCustomSettings', '1'):\n",
    "    print(\"well done\")"
   ],
   "metadata": {
    "collapsed": false,
    "pycharm": {
     "name": "#%%\n"
    }
   }
  },
  {
   "cell_type": "code",
   "execution_count": 75,
   "outputs": [
    {
     "name": "stdout",
     "output_type": "stream",
     "text": [
      "'0_A011C0022_220623_005G.MOV'\n",
      "'1_A011C0010_220623_005G.MOV'\n",
      "'2_A011C0033_220623_005G.MOV'\n",
      "'3_A011C0018_220623_005G.MOV'\n",
      "'4_A011C0041_220623_005G.MOV'\n",
      "'5_A011C0051_220623_005G.MOV'\n",
      "'6_A011C0034_220623_005G.MOV'\n",
      "'7_A011C0093_220624_005G.MOV'\n",
      "'8_220709_FX3_A_0083.MP4'\n",
      "'9_A011C0096_220624_005G.MOV'\n"
     ]
    },
    {
     "data": {
      "text/plain": "[<pybmd.folder.Folder at 0x1039cfdf0>,\n <pybmd.folder.Folder at 0x103aba020>,\n <pybmd.folder.Folder at 0x1039b2e60>,\n <pybmd.folder.Folder at 0x1039b33d0>,\n <pybmd.folder.Folder at 0x1039b44f0>]"
     },
     "execution_count": 75,
     "metadata": {},
     "output_type": "execute_result"
    }
   ],
   "source": [
    "from pybmd import Bmd\n",
    "\n",
    "resolve = Bmd()\n",
    "project = resolve.get_project_manager().get_current_project()\n",
    "media_pool = project.get_media_pool()\n",
    "root_folder = media_pool.get_root_folder()\n",
    "\n",
    "for sub_folder in root_folder.get_sub_folder_list():\n",
    "    if sub_folder.get_name() == \"Ronin_4D#2\":\n",
    "        for index, clip in enumerate(sub_folder.get_clip_list()):\n",
    "            pprint(f\"{index}_{clip.get_name()}\")\n",
    "\n",
    "root_folder.get_sub_folder_list()"
   ],
   "metadata": {
    "collapsed": false,
    "pycharm": {
     "name": "#%%    # 排除 _Timeline 这个 Bin\n"
    }
   }
  },
  {
   "cell_type": "code",
   "execution_count": 91,
   "outputs": [
    {
     "data": {
      "text/plain": "'Ronin_4D#2_2048x1080'"
     },
     "execution_count": 91,
     "metadata": {},
     "output_type": "execute_result"
    }
   ],
   "source": [
    "from pybmd import Bmd\n",
    "\n",
    "resolve = Bmd()\n",
    "project = resolve.get_project_manager().get_current_project()\n",
    "media_pool = project.get_media_pool()\n",
    "root_folder = media_pool.get_root_folder()\n",
    "\n",
    "timeline = project.get_timeline_by_index(1)\n",
    "project.set_current_timeline(timeline)\n",
    "project.get_current_timeline().get_name()"
   ],
   "metadata": {
    "collapsed": false,
    "pycharm": {
     "name": "#%%\n"
    }
   }
  },
  {
   "cell_type": "code",
   "execution_count": null,
   "outputs": [],
   "source": [],
   "metadata": {
    "collapsed": false,
    "pycharm": {
     "name": "#%%\n"
    }
   }
  }
 ],
 "metadata": {
  "kernelspec": {
   "display_name": "Python 3",
   "language": "python",
   "name": "python3"
  },
  "language_info": {
   "codemirror_mode": {
    "name": "ipython",
    "version": 2
   },
   "file_extension": ".py",
   "mimetype": "text/x-python",
   "name": "python",
   "nbconvert_exporter": "python",
   "pygments_lexer": "ipython2",
   "version": "2.7.6"
  }
 },
 "nbformat": 4,
 "nbformat_minor": 0
}