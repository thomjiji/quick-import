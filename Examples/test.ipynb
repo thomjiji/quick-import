{
 "cells": [
  {
   "cell_type": "code",
   "execution_count": 69,
   "outputs": [
    {
     "name": "stdout",
     "output_type": "stream",
     "text": [
      "A008C0081_220620_005G.MOV\n",
      "A008C0076_220620_005G.MOV\n",
      "A008C0101_220620_005G.MOV\n",
      "A010C0044_220622_005G.MOV\n",
      "A010C0037_220622_005G.MOV\n",
      "A011C0022_220623_005G.MOV\n",
      "A011C0033_220623_005G.MOV\n",
      "A011C0010_220623_005G.MOV\n",
      "A011C0018_220623_005G.MOV\n",
      "A011C0041_220623_005G.MOV\n",
      "A011C0051_220623_005G.MOV\n",
      "A011C0034_220623_005G.MOV\n",
      "220709_FX3_A_0083.MP4\n",
      "A011C0093_220624_005G.MOV\n",
      "A011C0096_220624_005G.MOV\n",
      "A011C0035_220623_005G.MOV\n",
      "FX6#3_2048x856\n",
      "Ronin_4D#1_2048x856\n",
      "Ronin_4D#1_2048x1080\n",
      "Ronin_4D#2_2048x1080\n",
      "Ronin_4D#2_1920x1080\n",
      "航拍#4_2048x1080\n"
     ]
    }
   ],
   "source": [
    "import sys\n",
    "from pprint import pprint\n",
    "import pybmd\n",
    "\n",
    "from python_get_resolve import GetResolve\n",
    "\n",
    "resolve = GetResolve()\n",
    "project_manager = resolve.GetProjectManager()\n",
    "project = project_manager.GetCurrentProject()\n",
    "media_storage = resolve.GetMediaStorage()\n",
    "media_pool = project.GetMediaPool()\n",
    "sub_folder = media_pool.GetRootFolder().GetSubFolderList()[0]\n",
    "\n",
    "# # create timeline 1\n",
    "# project.SetSetting('timelineResolutionWidth', \"1920\")\n",
    "# project.SetSetting('timelineResolutionHeight', \"1080\")\n",
    "# media_pool.CreateEmptyTimeline(\"timeline 1\")\n",
    "# # while True:\n",
    "# #     terminate_input = input(\"请取消勾选 timeline 1 的 use project setting，取消勾选完毕请输入 OK。程序将继续运行。\")\n",
    "# #     if terminate_input == \"OK\":\n",
    "# #         break\n",
    "# media_pool.AppendToTimeline(sub_folder.GetClipList()[0])\n",
    "# project.GetCurrentTimeline().SetSetting(\"timelineResolutionWidth\", \"3840\")\n",
    "# project.GetCurrentTimeline().SetSetting(\"timelineResolutionHeight\", \"2160\")\n",
    "# if project.SetSetting('timelineFrameRate', float(25)):\n",
    "#     print(\"set timeline frame rate successful\")\n",
    "# print(f\"timeline 1 width: {project.GetCurrentTimeline().GetSetting()['timelineResolutionWidth']}\")\n",
    "# print(f\"timeline 1 height: {project.GetCurrentTimeline().GetSetting()['timelineResolutionHeight']}\")\n",
    "# print(f\"timeline 1 frame rate: {project.GetCurrentTimeline().GetSetting()['timelineFrameRate']}\")\n",
    "\n",
    "root_folder = media_pool.GetRootFolder()\n",
    "for sub_folder in root_folder.GetSubFolderList():\n",
    "    for clip in sub_folder.GetClipList():\n",
    "        print(clip.GetName())\n"
   ],
   "metadata": {
    "collapsed": false,
    "pycharm": {
     "name": "#%%resolve = GetResolve()\n"
    }
   }
  },
  {
   "cell_type": "code",
   "execution_count": null,
   "outputs": [],
   "source": [
    "from pybmd import Bmd\n",
    "\n",
    "resolve = Bmd()\n",
    "project = resolve.get_project_manager().get_current_project()\n",
    "media_pool = project.get_media_pool()\n",
    "\n",
    "clip_width = 4096\n",
    "\n",
    "media_pool.create_empty_timeline(\"tmp\")\n",
    "timeline = project.get_current_timeline()\n",
    "print(f\"1_current_timeline: {timeline.get_name()}\")\n",
    "\n",
    "media_pool.create_empty_timeline(\"tmp1\")\n",
    "timeline = project.get_current_timeline()\n",
    "print(f\"2_current_timeline: {timeline.get_name()}\")\n",
    "\n",
    "media_pool.create_empty_timeline(\"tmp\")\n",
    "timeline_number = project.get_timeline_count()\n",
    "for i in range(timeline_number):\n",
    "    timeline = project.get_timeline_by_index(i + 1)\n",
    "    # print(timeline.get_setting()[\"timelineResolutionWidth\"])\n",
    "    if timeline.get_setting()[\"timelineResolutionWidth\"] == str(clip_width):\n",
    "        while project.set_current_timeline(timeline):\n",
    "            print(\"successful\")\n",
    "            break\n",
    "timeline = project.get_current_timeline()\n",
    "print(f\"3_current_timeline: {timeline.get_name()}\")\n"
   ],
   "metadata": {
    "collapsed": false,
    "pycharm": {
     "name": "#%%\n"
    }
   }
  },
  {
   "cell_type": "markdown",
   "source": [
    "`createEmptyTimeline()` 在遇到名称与之前建立的时间线重复之时，会直接跳过，不采取什么动作。通常情况下 `createEmptyTimeline()` 之后会把 currentTimeline 设为新建的那条时间线，但是遇到重复的话。\n",
    "\n",
    "What I need to do now: 找到目前新建的时间线当中，分辨率 width 与当前这个 clip 相符的那条时间线，把它设为 current timeline。"
   ],
   "metadata": {
    "collapsed": false,
    "pycharm": {
     "name": "#%% md\n"
    }
   }
  },
  {
   "cell_type": "code",
   "execution_count": 94,
   "outputs": [
    {
     "name": "stdout",
     "output_type": "stream",
     "text": [
      "'0_A011C0022_220623_005G.MOV'\n",
      "'1_A011C0010_220623_005G.MOV'\n",
      "'2_A011C0033_220623_005G.MOV'\n",
      "'3_A011C0018_220623_005G.MOV'\n",
      "'4_A011C0041_220623_005G.MOV'\n",
      "'5_A011C0051_220623_005G.MOV'\n",
      "'6_A011C0034_220623_005G.MOV'\n",
      "'7_A011C0093_220624_005G.MOV'\n",
      "'8_220709_FX3_A_0083.MP4'\n",
      "'9_A011C0096_220624_005G.MOV'\n"
     ]
    }
   ],
   "source": [
    "from pybmd import Bmd\n",
    "from pprint import pprint\n",
    "\n",
    "resolve = Bmd()\n",
    "project = resolve.get_project_manager().get_current_project()\n",
    "media_pool = project.get_media_pool()\n",
    "root_folder = media_pool.get_root_folder()\n",
    "\n",
    "for sub_folder in root_folder.get_sub_folder_list():\n",
    "    if sub_folder.get_name() == \"Ronin_4D#2\":\n",
    "        for index, clip in enumerate(sub_folder.get_clip_list()):\n",
    "            pprint(f\"{index}_{clip.get_name()}\")"
   ],
   "metadata": {
    "collapsed": false,
    "pycharm": {
     "name": "#%%    # 排除 _Timeline 这个 Bin\n"
    }
   }
  },
  {
   "cell_type": "code",
   "execution_count": 93,
   "outputs": [
    {
     "data": {
      "text/plain": "['/Volumes/DIT-2T#9/Users/thom/Movies/Videos/Footages/悠长假期/FX6#3',\n '/Volumes/DIT-2T#9/Users/thom/Movies/Videos/Footages/悠长假期/Ronin_4D#1',\n '/Volumes/DIT-2T#9/Users/thom/Movies/Videos/Footages/悠长假期/Ronin_4D#2',\n '/Volumes/DIT-2T#9/Users/thom/Movies/Videos/Footages/悠长假期/航拍#4']"
     },
     "execution_count": 93,
     "metadata": {},
     "output_type": "execute_result"
    }
   ],
   "source": [
    "from pybmd import Bmd\n",
    "\n",
    "resolve = Bmd()\n",
    "project = resolve.get_project_manager().get_current_project()\n",
    "media_pool = project.get_media_pool()\n",
    "root_folder = media_pool.get_root_folder()\n",
    "\n",
    "media_storage = resolve.get_media_stroage()\n",
    "# for media_storage_sub_folder in media_storage.get_sub_folder_list(\"/Volumes/DIT-2T#9/Users/thom/Movies/Videos/Footages/悠长假期\"):\n",
    "#     print(media_storage_sub_folder)\n",
    "media_storage.get_sub_folder_list(\"/Volumes/DIT-2T#9/Users/thom/Movies/Videos/Footages/悠长假期\")\n",
    "media_storage.add_item_list_to_meida_pool()"
   ],
   "metadata": {
    "collapsed": false,
    "pycharm": {
     "name": "#%%\n"
    }
   }
  },
  {
   "cell_type": "code",
   "execution_count": 120,
   "outputs": [
    {
     "name": "stdout",
     "output_type": "stream",
     "text": [
      "1: FX6#3: ['4096x1712']\n",
      "4096x1712\n",
      "2: Ronin_4D#1: ['4096x1712', '2048x1080', '4096x2160']\n",
      "4096x1712\n",
      "2048x1080\n",
      "4096x2160\n",
      "3: Ronin_4D#2: ['4096x2160', '3840x2160']\n",
      "4096x2160\n",
      "3840x2160\n",
      "4: 航拍#4: ['4096x2160']\n",
      "4096x2160\n"
     ]
    }
   ],
   "source": [
    "from pybmd import Bmd\n",
    "\n",
    "resolve = Bmd()\n",
    "project = resolve.get_project_manager().get_current_project()\n",
    "media_pool = project.get_media_pool()\n",
    "\n",
    "# 拿到机位 bin 下所有 clip 的分辨率信息，create new empty timeline.\n",
    "for index, sub_folder in enumerate(media_pool.get_root_folder().get_sub_folder_list()):\n",
    "\n",
    "    # 排除 _Timeline Bin\n",
    "    if sub_folder.get_name() == \"_Timeline\":\n",
    "        break\n",
    "\n",
    "    # 拿到机位 bin 下所有 clip 的分辨率信息\n",
    "    all_clips_resolution = []  # Camera 机位 bin 下所有 clip 的 resolution 信息\n",
    "    for clips in sub_folder.get_clip_list():\n",
    "        all_clips_resolution.append(clips.get_clip_property()[\"Resolution\"])\n",
    "    all_clips_resolution = list(dict.fromkeys(all_clips_resolution))  # 移除重复项\n",
    "    print(f\"{index + 1}: {sub_folder.get_name()}: {all_clips_resolution}\")\n",
    "\n",
    "    for res in all_clips_resolution:\n",
    "        timeline_name = f\"{sub_folder.get_name()}_{res}\"\n",
    "        print(res)\n",
    "        media_pool.create_empty_timeline(timeline_name)\n",
    "\n",
    "    # print(timeline_name)"
   ],
   "metadata": {
    "collapsed": false,
    "pycharm": {
     "name": "#%%\n"
    }
   }
  },
  {
   "cell_type": "code",
   "execution_count": 150,
   "outputs": [],
   "source": [
    "from python_get_resolve import GetResolve\n",
    "\n",
    "resolve = GetResolve()\n",
    "project_manager = resolve.GetProjectManager()\n",
    "project = project_manager.GetCurrentProject()\n",
    "media_storage = resolve.GetMediaStorage()\n",
    "media_pool = project.GetMediaPool()\n",
    "root_folder = media_pool.GetRootFolder()\n",
    "\n",
    "def create_new_timeline(timeline_name: str, width: str, height: str) -> None:\n",
    "    media_pool.SetCurrentFolder(root_folder.GetSubFolderList()[-1])\n",
    "    media_pool.CreateEmptyTimeline(timeline_name)\n",
    "    current_timeline = project.GetCurrentTimeline()\n",
    "    current_timeline.SetSetting(\"useCustomSettings\", \"1\")\n",
    "    current_timeline.SetSetting(\"timelineResolutionWidth\", width)\n",
    "    current_timeline.SetSetting(\"timelineResolutionHeight\", height)\n",
    "    current_timeline.SetSetting(\"timelineFrameRate\", str(float(25)))\n",
    "\n",
    "create_new_timeline(\"12\", \"1080\", \"1080\")"
   ],
   "metadata": {
    "collapsed": false,
    "pycharm": {
     "name": "#%%\n"
    }
   }
  }
 ],
 "metadata": {
  "kernelspec": {
   "display_name": "Python 3",
   "language": "python",
   "name": "python3"
  },
  "language_info": {
   "codemirror_mode": {
    "name": "ipython",
    "version": 2
   },
   "file_extension": ".py",
   "mimetype": "text/x-python",
   "name": "python",
   "nbconvert_exporter": "python",
   "pygments_lexer": "ipython2",
   "version": "2.7.6"
  }
 },
 "nbformat": 4,
 "nbformat_minor": 0
}