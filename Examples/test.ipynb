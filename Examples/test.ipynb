{
 "cells": [
  {
   "cell_type": "code",
   "execution_count": 98,
   "outputs": [
    {
     "name": "stdout",
     "output_type": "stream",
     "text": [
      "'3840'\n",
      "'2160'\n",
      "'3840'\n",
      "'2160'\n"
     ]
    }
   ],
   "source": [
    "from pprint import pprint\n",
    "from python_get_resolve import GetResolve\n",
    "\n",
    "resolve = GetResolve()\n",
    "project_manager = resolve.GetProjectManager()\n",
    "project = project_manager.GetCurrentProject()\n",
    "media_storage = resolve.GetMediaStorage()\n",
    "media_pool = project.GetMediaPool()\n",
    "\n",
    "project.SetSetting('timelineResolutionWidth', \"3840\")\n",
    "project.SetSetting('timelineResolutionHeight', \"2160\")\n",
    "media_pool.CreateEmptyTimeline(\"new timeline\")\n",
    "width_after_setting_project_res = project.GetCurrentTimeline().GetSetting()[\"timelineResolutionWidth\"]\n",
    "height_after_setting_project_res = project.GetCurrentTimeline().GetSetting()[\"timelineResolutionHeight\"]\n",
    "pprint(width_after_setting_project_res)\n",
    "pprint(height_after_setting_project_res)\n",
    "# project.GetCurrentTimeline().GetName()\n",
    "# if project.GetCurrentTimeline().SetSetting(\"timelineResolutionWidth\", \"3840\"):\n",
    "#     print(\"SetSetting successful\")\n",
    "# if project.GetCurrentTimeline().SetSetting(\"timelineResolutionHeight\", \"2160\"):\n",
    "#     print(\"SetSetting height successful\")"
   ],
   "metadata": {
    "collapsed": false,
    "pycharm": {
     "name": "#%%resolve = GetResolve()\n"
    }
   }
  },
  {
   "cell_type": "code",
   "execution_count": null,
   "outputs": [],
   "source": [],
   "metadata": {
    "collapsed": false,
    "pycharm": {
     "name": "#%%\n"
    }
   }
  }
 ],
 "metadata": {
  "kernelspec": {
   "display_name": "Python 3",
   "language": "python",
   "name": "python3"
  },
  "language_info": {
   "codemirror_mode": {
    "name": "ipython",
    "version": 2
   },
   "file_extension": ".py",
   "mimetype": "text/x-python",
   "name": "python",
   "nbconvert_exporter": "python",
   "pygments_lexer": "ipython2",
   "version": "2.7.6"
  }
 },
 "nbformat": 4,
 "nbformat_minor": 0
}