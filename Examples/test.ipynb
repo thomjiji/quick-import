{
 "cells": [
  {
   "cell_type": "code",
   "execution_count": 23,
   "outputs": [
    {
     "name": "stdout",
     "output_type": "stream",
     "text": [
      "timeline 1 width: 1920\n",
      "timeline 1 height: 1080\n",
      "timeline 1 frame rate: 25.0\n"
     ]
    }
   ],
   "source": [
    "import sys\n",
    "from pprint import pprint\n",
    "\n",
    "import pybmd\n",
    "\n",
    "from python_get_resolve import GetResolve\n",
    "\n",
    "resolve = GetResolve()\n",
    "project_manager = resolve.GetProjectManager()\n",
    "project = project_manager.GetCurrentProject()\n",
    "media_storage = resolve.GetMediaStorage()\n",
    "media_pool = project.GetMediaPool()\n",
    "sub_folder = media_pool.GetRootFolder().GetSubFolderList()[0]\n",
    "\n",
    "# create timeline 1\n",
    "project.SetSetting('timelineResolutionWidth', \"1920\")\n",
    "project.SetSetting('timelineResolutionHeight', \"1080\")\n",
    "media_pool.CreateEmptyTimeline(\"timeline 1\")\n",
    "# while True:\n",
    "#     terminate_input = input(\"请取消勾选 timeline 1 的 use project setting，取消勾选完毕请输入 OK。程序将继续运行。\")\n",
    "#     if terminate_input == \"OK\":\n",
    "#         break\n",
    "media_pool.AppendToTimeline(sub_folder.GetClipList()[0])\n",
    "project.GetCurrentTimeline().SetSetting(\"timelineResolutionWidth\", \"3840\")\n",
    "project.GetCurrentTimeline().SetSetting(\"timelineResolutionHeight\", \"2160\")\n",
    "if project.SetSetting('timelineFrameRate', float(25)):\n",
    "    print(\"set timeline frame rate successful\")\n",
    "print(f\"timeline 1 width: {project.GetCurrentTimeline().GetSetting()['timelineResolutionWidth']}\")\n",
    "print(f\"timeline 1 height: {project.GetCurrentTimeline().GetSetting()['timelineResolutionHeight']}\")\n",
    "print(f\"timeline 1 frame rate: {project.GetCurrentTimeline().GetSetting()['timelineFrameRate']}\")"
   ],
   "metadata": {
    "collapsed": false,
    "pycharm": {
     "name": "#%%resolve = GetResolve()\n"
    }
   }
  },
  {
   "cell_type": "code",
   "execution_count": 26,
   "outputs": [
    {
     "name": "stdout",
     "output_type": "stream",
     "text": [
      "well done\n"
     ]
    },
    {
     "data": {
      "text/plain": "True"
     },
     "execution_count": 26,
     "metadata": {},
     "output_type": "execute_result"
    }
   ],
   "source": [
    "from pybmd import Bmd\n",
    "\n",
    "file = \"/Users/thom/Desktop/after.md\"\n",
    "\n",
    "resolve = Bmd()\n",
    "project = resolve.get_project_manager().get_current_project()\n",
    "# x = project.get_current_timeline().get_setting()\n",
    "if project.get_current_timeline().set_setting(\"useCustomSettings\", \"1\"):\n",
    "    print(\"well done\")\n",
    "\n",
    "project.get_current_timeline().set_setting(\"timelineResolutionWidth\", \"3840\")\n",
    "project.get_current_timeline().set_setting(\"timelineResolutionHeight\", \"2160\")\n",
    "# original_stdout = sys.stdout\n",
    "# with open(file, 'a') as f:\n",
    "#     sys.stdout = f\n",
    "#     pprint(x)\n",
    "#     sys.stdout = original_stdout"
   ],
   "metadata": {
    "collapsed": false,
    "pycharm": {
     "name": "#%%\n"
    }
   }
  },
  {
   "cell_type": "code",
   "execution_count": null,
   "outputs": [],
   "source": [],
   "metadata": {
    "collapsed": false,
    "pycharm": {
     "name": "#%%\n"
    }
   }
  }
 ],
 "metadata": {
  "kernelspec": {
   "display_name": "Python 3",
   "language": "python",
   "name": "python3"
  },
  "language_info": {
   "codemirror_mode": {
    "name": "ipython",
    "version": 2
   },
   "file_extension": ".py",
   "mimetype": "text/x-python",
   "name": "python",
   "nbconvert_exporter": "python",
   "pygments_lexer": "ipython2",
   "version": "2.7.6"
  }
 },
 "nbformat": 4,
 "nbformat_minor": 0
}