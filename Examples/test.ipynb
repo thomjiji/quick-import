{
 "cells": [
  {
   "cell_type": "code",
   "execution_count": null,
   "outputs": [],
   "source": [
    "from pprint import pprint\n",
    "\n",
    "import pybmd\n",
    "\n",
    "from python_get_resolve import GetResolve\n",
    "\n",
    "resolve = GetResolve()\n",
    "project_manager = resolve.GetProjectManager()\n",
    "project = project_manager.GetCurrentProject()\n",
    "media_storage = resolve.GetMediaStorage()\n",
    "media_pool = project.GetMediaPool()\n",
    "sub_folder = media_pool.GetRootFolder().GetSubFolderList()[0]\n",
    "\n",
    "# # create timeline 1\n",
    "# project.SetSetting('timelineResolutionWidth', \"3840\")\n",
    "# project.SetSetting('timelineResolutionHeight', \"2160\")\n",
    "# media_pool.CreateEmptyTimeline(\"timeline 1\")\n",
    "# media_pool.AppendToTimeline(sub_folder.GetClipList()[0])\n",
    "# print(f\"timeline 1 width: {project.GetCurrentTimeline().GetSetting()['timelineResolutionWidth']}\")\n",
    "# print(f\"timeline 1 height: {project.GetCurrentTimeline().GetSetting()['timelineResolutionHeight']}\")\n",
    "#\n",
    "# # create timeline 2\n",
    "# project.SetSetting('timelineResolutionWidth', \"4096\")\n",
    "# project.SetSetting('timelineResolutionHeight', \"2160\")\n",
    "# # media_pool.CreateTimelineFromClips(\"timeline 2\", sub_folder.GetClipList())\n",
    "# media_pool.CreateEmptyTimeline(\"timeline 2\")\n",
    "# media_pool.AppendToTimeline(sub_folder.GetClipList()[1])\n",
    "# print(f\"timeline 2 width: {project.GetCurrentTimeline().GetSetting()['timelineResolutionWidth']}\")\n",
    "# print(f\"timeline 2 height: {project.GetCurrentTimeline().GetSetting()['timelineResolutionHeight']}\")"
   ],
   "metadata": {
    "collapsed": false,
    "pycharm": {
     "name": "#%%resolve = GetResolve()\n",
     "is_executing": true
    }
   }
  },
  {
   "cell_type": "code",
   "execution_count": 5,
   "outputs": [
    {
     "name": "stdout",
     "output_type": "stream",
     "text": [
      "[18, 0, 0, 23, 'b']\n"
     ]
    }
   ],
   "source": [
    "from pybmd import Bmd\n",
    "\n",
    "resolve = Bmd()\n",
    "\n",
    "project_manager = resolve.get_version()\n",
    "print(project_manager)"
   ],
   "metadata": {
    "collapsed": false,
    "pycharm": {
     "name": "#%%\n"
    }
   }
  },
  {
   "cell_type": "code",
   "execution_count": null,
   "outputs": [],
   "source": [],
   "metadata": {
    "collapsed": false,
    "pycharm": {
     "name": "#%%\n"
    }
   }
  }
 ],
 "metadata": {
  "kernelspec": {
   "display_name": "Python 3",
   "language": "python",
   "name": "python3"
  },
  "language_info": {
   "codemirror_mode": {
    "name": "ipython",
    "version": 2
   },
   "file_extension": ".py",
   "mimetype": "text/x-python",
   "name": "python",
   "nbconvert_exporter": "python",
   "pygments_lexer": "ipython2",
   "version": "2.7.6"
  }
 },
 "nbformat": 4,
 "nbformat_minor": 0
}