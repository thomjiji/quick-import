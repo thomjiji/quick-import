{
 "cells": [
  {
   "cell_type": "code",
   "execution_count": 77,
   "outputs": [
    {
     "name": "stdout",
     "output_type": "stream",
     "text": [
      "[25.0, 24.0]\n"
     ]
    }
   ],
   "source": [
    "from pprint import pprint\n",
    "from python_get_resolve import GetResolve\n",
    "from typing import List, Union\n",
    "import sys\n",
    "\n",
    "# testing\n",
    "sys.argv[1] = '/Users/thom/Movies/Videos/Footages/悠长假期'\n",
    "\n",
    "media_path: str = sys.argv[1]\n",
    "\n",
    "resolve = GetResolve()\n",
    "project_manager = resolve.GetProjectManager()\n",
    "project = project_manager.GetCurrentProject()\n",
    "media_storage = resolve.GetMediaStorage()\n",
    "\n",
    "sub_folders_full_path = media_storage.GetSubFolderList(media_path)\n",
    "\n",
    "\n",
    "def get_sub_folder_name(folder_full_path: List[str]) -> List[str]:\n",
    "    \"\"\"Get folder name from media storage.\"\"\"\n",
    "    folder_name_list = []\n",
    "    for i in folder_full_path:\n",
    "        split_folder_path_list = i.split(\"/\")\n",
    "        folder_name_list.append(split_folder_path_list[-1])\n",
    "    return folder_name_list\n",
    "\n",
    "\n",
    "# Create subfolder in media pool.\n",
    "sub_folder_name = get_sub_folder_name(sub_folders_full_path)\n",
    "media_pool = project.GetMediaPool()\n",
    "root_folder = media_pool.GetRootFolder()\n",
    "for i in sub_folder_name:\n",
    "    media_pool.AddSubFolder(root_folder, i)\n",
    "\n",
    "# Import footage from media storage.\n",
    "all_clips = []  # a list of MediaPoolItems.\n",
    "for count, sub_folder in enumerate(root_folder.GetSubFolderList()):\n",
    "    media_pool.SetCurrentFolder(sub_folder)\n",
    "    all_clips.append(media_storage.AddItemListToMediaPool(sub_folders_full_path[count]))\n",
    "\n",
    "# Get FPS info of all the shots that have been imported into the media pool.\n",
    "FPS_list = []\n",
    "for camera in all_clips:\n",
    "    for clip in camera:\n",
    "        FPS_list.append(clip.GetClipProperty()[\"FPS\"])\n",
    "FPS_list = list(dict.fromkeys(FPS_list))\n",
    "print(FPS_list)\n",
    "\n",
    "for index, fps in enumerate(FPS_list):\n",
    "    project.SetSetting(\"timelineFrameRate\", fps)\n",
    "    project.SetSetting(\"timelineResolutionWidth\", \"1920\")\n",
    "    project.SetSetting(\"timelineResolutionHeight\", \"1080\")\n",
    "    media_pool.CreateTimelineFromClips(sub_folder_name[index], [all_clips[0][0], all_clips[0][1]])\n"
   ],
   "metadata": {
    "collapsed": false,
    "pycharm": {
     "name": "#%%\n"
    }
   }
  },
  {
   "cell_type": "code",
   "execution_count": 21,
   "outputs": [
    {
     "name": "stdout",
     "output_type": "stream",
     "text": [
      "UIManager (0x0x15bf1cbe0) [App: 'Resolve' on 127.0.0.1, UUID: cf1c903e-f8e3-4a82-bb54-9f26284b70b0]\n"
     ]
    }
   ],
   "source": [
    "import DaVinciResolveScript as bmd\n",
    "\n",
    "fu = bmd.scriptapp('Fusion')\n",
    "\n",
    "ui = fu.UIManager\n",
    "print(ui)"
   ],
   "metadata": {
    "collapsed": false,
    "pycharm": {
     "name": "#%%\n"
    }
   }
  },
  {
   "cell_type": "code",
   "execution_count": 80,
   "outputs": [
    {
     "data": {
      "text/plain": "'25'"
     },
     "execution_count": 80,
     "metadata": {},
     "output_type": "execute_result"
    }
   ],
   "source": [
    "x = 25.0\n",
    "str(x).split(\".\")[0]"
   ],
   "metadata": {
    "collapsed": false,
    "pycharm": {
     "name": "#%%\n"
    }
   }
  },
  {
   "cell_type": "code",
   "execution_count": null,
   "outputs": [],
   "source": [],
   "metadata": {
    "collapsed": false,
    "pycharm": {
     "name": "#%%\n"
    }
   }
  }
 ],
 "metadata": {
  "kernelspec": {
   "display_name": "Python 3",
   "language": "python",
   "name": "python3"
  },
  "language_info": {
   "codemirror_mode": {
    "name": "ipython",
    "version": 2
   },
   "file_extension": ".py",
   "mimetype": "text/x-python",
   "name": "python",
   "nbconvert_exporter": "python",
   "pygments_lexer": "ipython2",
   "version": "2.7.6"
  }
 },
 "nbformat": 4,
 "nbformat_minor": 0
}