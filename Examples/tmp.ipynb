{
 "cells": [
  {
   "cell_type": "code",
   "execution_count": null,
   "outputs": [],
   "source": [
    "import sys\n",
    "from pprint import pprint\n",
    "from typing import List, Any\n",
    "\n",
    "import pybmd\n",
    "\n",
    "from python_get_resolve import GetResolve\n",
    "\n",
    "resolve = GetResolve()\n",
    "project_manager = resolve.GetProjectManager()\n",
    "project = project_manager.GetCurrentProject()\n",
    "media_storage = resolve.GetMediaStorage()\n",
    "media_pool = project.GetMediaPool()\n",
    "sub_folder = media_pool.GetRootFolder().GetSubFolderList()[0]\n",
    "\n",
    "root_folder = media_pool.GetRootFolder()\n",
    "for sub_folder in root_folder.GetSubFolderList():\n",
    "    for clip in sub_folder.GetClipList():\n",
    "        print(clip.GetName())\n"
   ],
   "metadata": {
    "collapsed": false,
    "pycharm": {
     "name": "#%%resolve = GetResolve()\n"
    }
   }
  },
  {
   "cell_type": "code",
   "execution_count": null,
   "outputs": [],
   "source": [
    "from pybmd import Bmd\n",
    "\n",
    "resolve = Bmd()\n",
    "project = resolve.get_project_manager().get_current_project()\n",
    "media_pool = project.get_media_pool()\n",
    "\n",
    "clip_width = 4096\n",
    "\n",
    "media_pool.create_empty_timeline(\"tmp\")\n",
    "timeline = project.get_current_timeline()\n",
    "print(f\"1_current_timeline: {timeline.get_name()}\")\n",
    "\n",
    "media_pool.create_empty_timeline(\"tmp1\")\n",
    "timeline = project.get_current_timeline()\n",
    "print(f\"2_current_timeline: {timeline.get_name()}\")\n",
    "\n",
    "media_pool.create_empty_timeline(\"tmp\")\n",
    "timeline_number = project.get_timeline_count()\n",
    "for i in range(timeline_number):\n",
    "    timeline = project.get_timeline_by_index(i + 1)\n",
    "    # print(timeline.get_setting()[\"timelineResolutionWidth\"])\n",
    "    if timeline.get_setting()[\"timelineResolutionWidth\"] == str(clip_width):\n",
    "        while project.set_current_timeline(timeline):\n",
    "            print(\"successful\")\n",
    "            break\n",
    "timeline = project.get_current_timeline()\n",
    "print(f\"3_current_timeline: {timeline.get_name()}\")\n"
   ],
   "metadata": {
    "collapsed": false,
    "pycharm": {
     "name": "#%%\n"
    }
   }
  },
  {
   "cell_type": "markdown",
   "source": [
    "`createEmptyTimeline()` 在遇到名称与之前建立的时间线重复之时，会直接跳过，不采取什么动作。通常情况下 `createEmptyTimeline()` 之后会把 currentTimeline 设为新建的那条时间线，但是遇到重复的话。\n",
    "\n",
    "What I need to do now: 找到目前新建的时间线当中，分辨率 width 与当前这个 clip 相符的那条时间线，把它设为 current timeline。"
   ],
   "metadata": {
    "collapsed": false,
    "pycharm": {
     "name": "#%% md\n"
    }
   }
  },
  {
   "cell_type": "code",
   "execution_count": null,
   "outputs": [],
   "source": [
    "from pybmd import Bmd\n",
    "from pprint import pprint\n",
    "\n",
    "resolve = Bmd()\n",
    "project = resolve.get_project_manager().get_current_project()\n",
    "media_pool = project.get_media_pool()\n",
    "root_folder = media_pool.get_root_folder()\n",
    "\n",
    "for sub_folder in root_folder.get_sub_folder_list():\n",
    "    if sub_folder.get_name() == \"Ronin_4D#2\":\n",
    "        for index, clip in enumerate(sub_folder.get_clip_list()):\n",
    "            pprint(f\"{index}_{clip.get_name()}\")"
   ],
   "metadata": {
    "collapsed": false,
    "pycharm": {
     "name": "#%%    # 排除 _Timeline 这个 Bin\n"
    }
   }
  },
  {
   "cell_type": "code",
   "execution_count": 8,
   "outputs": [
    {
     "data": {
      "text/plain": "'FX6#3_2048x856'"
     },
     "execution_count": 8,
     "metadata": {},
     "output_type": "execute_result"
    }
   ],
   "source": [
    "from pybmd import Bmd\n",
    "from pybmd.toolkits import change_timeline_resolution, get_all_timeline, get_timeline\n",
    "\n",
    "resolve = Bmd()\n",
    "project = resolve.get_project_manager().get_current_project()\n",
    "media_pool = project.get_media_pool()\n",
    "root_folder = media_pool.get_root_folder()\n",
    "media_storage = resolve.get_media_stroage()\n",
    "\n",
    "current_timeline = project.get_current_timeline()\n",
    "\n",
    "change_timeline_resolution(current_timeline, 1920, 1080)\n",
    "timeline = get_timeline(project, 'FX6#3_2048x856')\n",
    "timeline.get_name()\n",
    "\n",
    "media_storage.add_item_list_to_meida_pool()"
   ],
   "metadata": {
    "collapsed": false,
    "pycharm": {
     "name": "#%%\n"
    }
   }
  },
  {
   "cell_type": "code",
   "execution_count": null,
   "outputs": [],
   "source": [
    "from pybmd import Bmd\n",
    "\n",
    "resolve = Bmd()\n",
    "project = resolve.get_project_manager().get_current_project()\n",
    "media_pool = project.get_media_pool()\n",
    "\n",
    "# 拿到机位 bin 下所有 clip 的分辨率信息，create new empty timeline.\n",
    "for index, sub_folder in enumerate(media_pool.get_root_folder().get_sub_folder_list()):\n",
    "\n",
    "    # 排除 _Timeline Bin\n",
    "    if sub_folder.get_name() == \"_Timeline\" or sub_folder.get_name() == \"tmp\":\n",
    "        break\n",
    "\n",
    "    # 拿到机位 bin 下所有 clip 的分辨率信息 assign to all_clips_resolution 这个 list.\n",
    "    all_clips_resolution = []  # Camera 机位 bin 下所有 clip 的 resolution 信息\n",
    "    for clips in sub_folder.get_clip_list():\n",
    "        all_clips_resolution.append(clips.get_clip_property()[\"Resolution\"])\n",
    "    all_clips_resolution: list[str] = list(dict.fromkeys(all_clips_resolution))  # 移除 list 中的重复项\n",
    "    print(f\"{index + 1}. {sub_folder.get_name()}: {all_clips_resolution}\")\n",
    "\n",
    "    # 根据 all_clips_resolution 里的分辨率信息新建时间线\n",
    "    for res in all_clips_resolution:\n",
    "        timeline_name = f\"{sub_folder.get_name()}_{res}\"\n",
    "        print(res)\n",
    "        # media_pool.create_empty_timeline(timeline_name).set_setting(\"useCustomSettings\", \"1\")"
   ],
   "metadata": {
    "collapsed": false,
    "pycharm": {
     "name": "#%%\n"
    }
   }
  },
  {
   "cell_type": "markdown",
   "source": [
    "# 出现问题的原因是：\n",
    "\n",
    "1. 同一个文件夹 Bin 当中有 2048x1080 的素材，也有 4096x2160 的素材。后者再除以 2 之后正好又等于前者。所以在先建立好 2048x2080 的时间线之后，遇到 4096x2160 的素材，create_new_timeline() 函数的 CreatEmptyTimeline() 就不工作了，也就造成 project 的 currentTimeline 还是上一个建立好的时间线。那么函数之后的操作像 current_timeline.SetSetting() 会继续进行，但这次修改的是上一个建立好的时间线，也就是 project 的 currentTimeline。\n",
    "2. 需要一个机制判断此刻正在新建的时间线是否与之前已经建立好的时间线重复。如果重复，那么直接跳过不再新建时间线。或者 project.SetCurrentTimeline() 到与当前正在建立的时间线重复的那条时间线，这样 current_timeline.SetSetting() 也会被安全跳过，又不会改到上一个建立好的时间线（which is 不是我们想要修改到的时间线）。\n",
    "3. 怎么判断重复呢：clip_width & clip_height AND timeline_name"
   ],
   "metadata": {
    "collapsed": false,
    "pycharm": {
     "name": "#%% md\n"
    }
   }
  },
  {
   "cell_type": "code",
   "execution_count": null,
   "outputs": [],
   "source": [
    "def create_new_timeline(timeline: str, width: str, height: str) -> None:\n",
    "    \"\"\"Create new timeline in the _Timeline Bin (The last folder under root folder)\"\"\"\n",
    "    media_pool.SetCurrentFolder(root_folder.GetSubFolderList()[-1])\n",
    "    timeline_number = project.GetTimelineCount()\n",
    "    for i in range(timeline_number):\n",
    "        existing_timeline = project.GetTimelineByIndex(i + 1)\n",
    "        if existing_timeline.GetName() == timeline or existing_timeline.GetSetting()[\n",
    "            'timelineResolutionWidth'] == width and existing_timeline.GetSetting()[\n",
    "            'timelineResolutionHeight'] == height:\n",
    "            project.SetCurrentTimeline(existing_timeline)\n",
    "\n",
    "    media_pool.CreateEmptyTimeline(timeline)\n",
    "    current_timeline = project.GetCurrentTimeline()\n",
    "    current_timeline.SetSetting(\"useCustomSettings\", \"1\")\n",
    "    current_timeline.SetSetting(\"timelineResolutionWidth\", width)\n",
    "    current_timeline.SetSetting(\"timelineResolutionHeight\", height)\n",
    "    current_timeline.SetSetting(\"timelineFrameRate\", str(float(25)))"
   ],
   "metadata": {
    "collapsed": false,
    "pycharm": {
     "name": "#%%\n"
    }
   }
  },
  {
   "cell_type": "markdown",
   "source": [
    "# create_new_timeline() 加入 check ⬆\n",
    "\n",
    "首先拿到目前有的所有时间线的数量，然后一个 for loop 在这个数量当中，通过 GetTimelineByIndex() 方法一次拿到一条时间线，检查这条时间线的名字是否与函数的输入值 timeline: str 重复，或者这条时间线的长宽与函数的输入值 width: str 和 height: str 重复。如果是的话，我们把已存在的时间线当中的这条与我们准备建立的时间线重复了的时间线，设为 currentTimeline。然后函数接下来的操作将会跳过。也就避免了改到不该改的时间线的情况。"
   ],
   "metadata": {
    "collapsed": false,
    "pycharm": {
     "name": "#%% md\n"
    }
   }
  },
  {
   "cell_type": "code",
   "execution_count": null,
   "outputs": [],
   "source": [
    "for clip in sub_folder.GetClipList():\n",
    "    media_pool.AppendToTimeline(clip)"
   ],
   "metadata": {
    "collapsed": false,
    "pycharm": {
     "name": "#%%\n"
    }
   }
  },
  {
   "cell_type": "code",
   "execution_count": null,
   "outputs": [],
   "source": [
    "from pprint import pprint\n",
    "\n",
    "import os\n",
    "from python_get_resolve import GetResolve\n",
    "\n",
    "resolve = GetResolve()\n",
    "project_manager = resolve.GetProjectManager()\n",
    "project = project_manager.GetCurrentProject()\n",
    "media_pool = project.GetMediaPool()\n",
    "root_folder = media_pool.GetRootFolder()\n",
    "media_storage = resolve.GetMediaStorage()\n",
    "\n",
    "media_path = '/Volumes/thom_7_for_Mac/tmp/素材'\n",
    "\n",
    "sub_folders_full_path = media_storage.GetSubFolderList(media_path)\n",
    "\n",
    "\n",
    "def absolute_file_paths(directory):\n",
    "    for dirpath, _, filenames in os.walk(directory):\n",
    "        for f in filenames:\n",
    "            yield os.path.abspath(os.path.join(dirpath, f))\n",
    "\n",
    "INVALID_EXTENSION = [\"DS_Store\", \"JPG\", \"JPEG\", \"SRT\"]\n",
    "\n",
    "for i in absolute_file_paths('/Volumes/thom_7_for_Mac/tmp/素材'):\n",
    "    if i.split(\".\")[-1] not in INVALID_EXTENSION:\n",
    "        # media_pool.SetCurrentFolder(i.split(\"/\").index(\"素材\") + 1)\n",
    "        # media_pool.ImportMedia(i)\n",
    "        print(type(i.split(\"/\")[i.split(\"/\").index(\"素材\") + 1]))"
   ],
   "metadata": {
    "collapsed": false,
    "pycharm": {
     "name": "#%%\n"
    }
   }
  }
 ],
 "metadata": {
  "kernelspec": {
   "display_name": "Python 3",
   "language": "python",
   "name": "python3"
  },
  "language_info": {
   "codemirror_mode": {
    "name": "ipython",
    "version": 2
   },
   "file_extension": ".py",
   "mimetype": "text/x-python",
   "name": "python",
   "nbconvert_exporter": "python",
   "pygments_lexer": "ipython2",
   "version": "2.7.6"
  }
 },
 "nbformat": 4,
 "nbformat_minor": 0
}